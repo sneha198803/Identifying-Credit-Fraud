{
 "cells": [
  {
   "cell_type": "code",
   "execution_count": 8,
   "metadata": {},
   "outputs": [],
   "source": [
    "#import all the libraries needed\n",
    "import pandas as pd\n",
    "from sklearn.metrics import classification_report, confusion_matrix\n",
    "from sklearn.ensemble import GradientBoostingClassifier\n",
    "\n",
    "import os\n",
    "import pandas as pd\n",
    "import numpy as np\n",
    "import matplotlib.pyplot as plt\n",
    "from sklearn import preprocessing\n",
    "from sklearn.model_selection import train_test_split\n",
    "from imblearn.under_sampling import RandomUnderSampler\n",
    "from imblearn.over_sampling import RandomOverSampler\n",
    "from imblearn.combine import SMOTETomek\n",
    "from collections import Counter\n",
    "from sklearn import metrics\n",
    "from sklearn.metrics import classification_report\n",
    "from sklearn.metrics import roc_auc_score\n",
    "from sklearn.metrics import roc_curve\n",
    "from sklearn.metrics import accuracy_score\n",
    "\n",
    "from sklearn.model_selection import cross_val_score\n",
    "from sklearn.model_selection import StratifiedKFold\n",
    "from sklearn.metrics import f1_score\n",
    "from sklearn.metrics import recall_score\n",
    "from sklearn.metrics import precision_score\n",
    "from sklearn.neighbors import KNeighborsClassifier"
   ]
  },
  {
   "cell_type": "code",
   "execution_count": 2,
   "metadata": {},
   "outputs": [
    {
     "data": {
      "text/html": [
       "<div>\n",
       "<style scoped>\n",
       "    .dataframe tbody tr th:only-of-type {\n",
       "        vertical-align: middle;\n",
       "    }\n",
       "\n",
       "    .dataframe tbody tr th {\n",
       "        vertical-align: top;\n",
       "    }\n",
       "\n",
       "    .dataframe thead th {\n",
       "        text-align: right;\n",
       "    }\n",
       "</style>\n",
       "<table border=\"1\" class=\"dataframe\">\n",
       "  <thead>\n",
       "    <tr style=\"text-align: right;\">\n",
       "      <th></th>\n",
       "      <th>Time</th>\n",
       "      <th>V1</th>\n",
       "      <th>V2</th>\n",
       "      <th>V3</th>\n",
       "      <th>V4</th>\n",
       "      <th>V5</th>\n",
       "      <th>V6</th>\n",
       "      <th>V7</th>\n",
       "      <th>V8</th>\n",
       "      <th>V9</th>\n",
       "      <th>...</th>\n",
       "      <th>V21</th>\n",
       "      <th>V22</th>\n",
       "      <th>V23</th>\n",
       "      <th>V24</th>\n",
       "      <th>V25</th>\n",
       "      <th>V26</th>\n",
       "      <th>V27</th>\n",
       "      <th>V28</th>\n",
       "      <th>Amount</th>\n",
       "      <th>Class</th>\n",
       "    </tr>\n",
       "  </thead>\n",
       "  <tbody>\n",
       "    <tr>\n",
       "      <th>0</th>\n",
       "      <td>0.0</td>\n",
       "      <td>-1.359807</td>\n",
       "      <td>-0.072781</td>\n",
       "      <td>2.536347</td>\n",
       "      <td>1.378155</td>\n",
       "      <td>-0.338321</td>\n",
       "      <td>0.462388</td>\n",
       "      <td>0.239599</td>\n",
       "      <td>0.098698</td>\n",
       "      <td>0.363787</td>\n",
       "      <td>...</td>\n",
       "      <td>-0.018307</td>\n",
       "      <td>0.277838</td>\n",
       "      <td>-0.110474</td>\n",
       "      <td>0.066928</td>\n",
       "      <td>0.128539</td>\n",
       "      <td>-0.189115</td>\n",
       "      <td>0.133558</td>\n",
       "      <td>-0.021053</td>\n",
       "      <td>149.62</td>\n",
       "      <td>0</td>\n",
       "    </tr>\n",
       "    <tr>\n",
       "      <th>1</th>\n",
       "      <td>0.0</td>\n",
       "      <td>1.191857</td>\n",
       "      <td>0.266151</td>\n",
       "      <td>0.166480</td>\n",
       "      <td>0.448154</td>\n",
       "      <td>0.060018</td>\n",
       "      <td>-0.082361</td>\n",
       "      <td>-0.078803</td>\n",
       "      <td>0.085102</td>\n",
       "      <td>-0.255425</td>\n",
       "      <td>...</td>\n",
       "      <td>-0.225775</td>\n",
       "      <td>-0.638672</td>\n",
       "      <td>0.101288</td>\n",
       "      <td>-0.339846</td>\n",
       "      <td>0.167170</td>\n",
       "      <td>0.125895</td>\n",
       "      <td>-0.008983</td>\n",
       "      <td>0.014724</td>\n",
       "      <td>2.69</td>\n",
       "      <td>0</td>\n",
       "    </tr>\n",
       "    <tr>\n",
       "      <th>2</th>\n",
       "      <td>1.0</td>\n",
       "      <td>-1.358354</td>\n",
       "      <td>-1.340163</td>\n",
       "      <td>1.773209</td>\n",
       "      <td>0.379780</td>\n",
       "      <td>-0.503198</td>\n",
       "      <td>1.800499</td>\n",
       "      <td>0.791461</td>\n",
       "      <td>0.247676</td>\n",
       "      <td>-1.514654</td>\n",
       "      <td>...</td>\n",
       "      <td>0.247998</td>\n",
       "      <td>0.771679</td>\n",
       "      <td>0.909412</td>\n",
       "      <td>-0.689281</td>\n",
       "      <td>-0.327642</td>\n",
       "      <td>-0.139097</td>\n",
       "      <td>-0.055353</td>\n",
       "      <td>-0.059752</td>\n",
       "      <td>378.66</td>\n",
       "      <td>0</td>\n",
       "    </tr>\n",
       "    <tr>\n",
       "      <th>3</th>\n",
       "      <td>1.0</td>\n",
       "      <td>-0.966272</td>\n",
       "      <td>-0.185226</td>\n",
       "      <td>1.792993</td>\n",
       "      <td>-0.863291</td>\n",
       "      <td>-0.010309</td>\n",
       "      <td>1.247203</td>\n",
       "      <td>0.237609</td>\n",
       "      <td>0.377436</td>\n",
       "      <td>-1.387024</td>\n",
       "      <td>...</td>\n",
       "      <td>-0.108300</td>\n",
       "      <td>0.005274</td>\n",
       "      <td>-0.190321</td>\n",
       "      <td>-1.175575</td>\n",
       "      <td>0.647376</td>\n",
       "      <td>-0.221929</td>\n",
       "      <td>0.062723</td>\n",
       "      <td>0.061458</td>\n",
       "      <td>123.50</td>\n",
       "      <td>0</td>\n",
       "    </tr>\n",
       "    <tr>\n",
       "      <th>4</th>\n",
       "      <td>2.0</td>\n",
       "      <td>-1.158233</td>\n",
       "      <td>0.877737</td>\n",
       "      <td>1.548718</td>\n",
       "      <td>0.403034</td>\n",
       "      <td>-0.407193</td>\n",
       "      <td>0.095921</td>\n",
       "      <td>0.592941</td>\n",
       "      <td>-0.270533</td>\n",
       "      <td>0.817739</td>\n",
       "      <td>...</td>\n",
       "      <td>-0.009431</td>\n",
       "      <td>0.798278</td>\n",
       "      <td>-0.137458</td>\n",
       "      <td>0.141267</td>\n",
       "      <td>-0.206010</td>\n",
       "      <td>0.502292</td>\n",
       "      <td>0.219422</td>\n",
       "      <td>0.215153</td>\n",
       "      <td>69.99</td>\n",
       "      <td>0</td>\n",
       "    </tr>\n",
       "  </tbody>\n",
       "</table>\n",
       "<p>5 rows × 31 columns</p>\n",
       "</div>"
      ],
      "text/plain": [
       "   Time        V1        V2        V3        V4        V5        V6        V7  \\\n",
       "0   0.0 -1.359807 -0.072781  2.536347  1.378155 -0.338321  0.462388  0.239599   \n",
       "1   0.0  1.191857  0.266151  0.166480  0.448154  0.060018 -0.082361 -0.078803   \n",
       "2   1.0 -1.358354 -1.340163  1.773209  0.379780 -0.503198  1.800499  0.791461   \n",
       "3   1.0 -0.966272 -0.185226  1.792993 -0.863291 -0.010309  1.247203  0.237609   \n",
       "4   2.0 -1.158233  0.877737  1.548718  0.403034 -0.407193  0.095921  0.592941   \n",
       "\n",
       "         V8        V9  ...       V21       V22       V23       V24       V25  \\\n",
       "0  0.098698  0.363787  ... -0.018307  0.277838 -0.110474  0.066928  0.128539   \n",
       "1  0.085102 -0.255425  ... -0.225775 -0.638672  0.101288 -0.339846  0.167170   \n",
       "2  0.247676 -1.514654  ...  0.247998  0.771679  0.909412 -0.689281 -0.327642   \n",
       "3  0.377436 -1.387024  ... -0.108300  0.005274 -0.190321 -1.175575  0.647376   \n",
       "4 -0.270533  0.817739  ... -0.009431  0.798278 -0.137458  0.141267 -0.206010   \n",
       "\n",
       "        V26       V27       V28  Amount  Class  \n",
       "0 -0.189115  0.133558 -0.021053  149.62      0  \n",
       "1  0.125895 -0.008983  0.014724    2.69      0  \n",
       "2 -0.139097 -0.055353 -0.059752  378.66      0  \n",
       "3 -0.221929  0.062723  0.061458  123.50      0  \n",
       "4  0.502292  0.219422  0.215153   69.99      0  \n",
       "\n",
       "[5 rows x 31 columns]"
      ]
     },
     "execution_count": 2,
     "metadata": {},
     "output_type": "execute_result"
    }
   ],
   "source": [
    "#read the data\n",
    "data = pd.read_csv(\"C:\\\\Users\\\\tejan\\\\Downloads\\\\creditcardfraud\\\\creditcard.csv\")\n",
    "data.head()"
   ]
  },
  {
   "cell_type": "code",
   "execution_count": 3,
   "metadata": {},
   "outputs": [],
   "source": [
    "#Break the data according to class labels, randomly split them into train, test data at 75:25 proportion and join the data accordingly\n",
    "data_class0 = data[data.Class == 0]\n",
    "data_class1 = data[data.Class == 1]\n",
    "\n",
    "#holdout method splitting\n",
    "data_class0_train, data_class0_test = train_test_split(data_class0, test_size = 0.25,random_state = 12356) \n",
    "data_class1_train, data_class1_test = train_test_split(data_class1, test_size = 0.25,random_state = 12356) \n",
    "\n",
    "#joining back\n",
    "data_train = pd.concat([data_class0_train, data_class1_train], ignore_index = True)\n",
    "data_test = pd.concat([data_class0_test, data_class1_test], ignore_index = True)"
   ]
  },
  {
   "cell_type": "code",
   "execution_count": 4,
   "metadata": {},
   "outputs": [],
   "source": [
    "#dropping the 'time' variable\n",
    "data.drop(['Time'], axis = 1, inplace = True)\n",
    "data_train.drop(['Time'], axis = 1, inplace = True)\n",
    "data_test.drop(['Time'], axis = 1, inplace = True)\n",
    "\n",
    "#converting the data to features and labels, then convert to arrays\n",
    "X_train = data_train.iloc[:, :-1].values\n",
    "y_train = data_train.iloc[:, -1].values\n",
    "X_test = data_test.iloc[:, :-1].values\n",
    "y_test = data_test.iloc[:, -1].values\n",
    "\n",
    "#scale the data using standardization\n",
    "scaler = preprocessing.StandardScaler()\n",
    "X_train_standardized = scaler.fit_transform(X_train)\n",
    "X_test_standardized = scaler.fit_transform(X_test)"
   ]
  },
  {
   "cell_type": "code",
   "execution_count": 6,
   "metadata": {},
   "outputs": [
    {
     "name": "stdout",
     "output_type": "stream",
     "text": [
      "Undersampled training dataset shape Counter({0: 369, 1: 369})\n",
      "Original training dataset shape Counter({0: 213236, 1: 369})\n",
      "Original testing dataset shape Counter({0: 71079, 1: 123})\n"
     ]
    }
   ],
   "source": [
    "#perform random undersampling of the data\n",
    "rus = RandomUnderSampler(random_state=123)\n",
    "X_rus, y_rus = rus.fit_resample(X_train_standardized, y_train)\n",
    "print('Undersampled training dataset shape %s' % Counter(y_rus))\n",
    "print('Original training dataset shape %s' % Counter(y_train))\n",
    "print('Original testing dataset shape %s' % Counter(y_test))"
   ]
  },
  {
   "cell_type": "code",
   "execution_count": 11,
   "metadata": {},
   "outputs": [
    {
     "name": "stdout",
     "output_type": "stream",
     "text": [
      "test accuracy 0.9834414763630235\n",
      "training accuracy 0.9607046070460704\n",
      "The classification report on training data is \n",
      "\n",
      "              precision    recall  f1-score   support\n",
      "\n",
      "           0       0.93      1.00      0.96       369\n",
      "           1       1.00      0.92      0.96       369\n",
      "\n",
      "    accuracy                           0.96       738\n",
      "   macro avg       0.96      0.96      0.96       738\n",
      "weighted avg       0.96      0.96      0.96       738\n",
      "\n",
      "The classification report on test data is \n",
      "\n",
      "              precision    recall  f1-score   support\n",
      "\n",
      "           0       1.00      0.98      0.99     71079\n",
      "           1       0.09      0.89      0.16       123\n",
      "\n",
      "    accuracy                           0.98     71202\n",
      "   macro avg       0.54      0.93      0.57     71202\n",
      "weighted avg       1.00      0.98      0.99     71202\n",
      "\n",
      "Accuracy: 0.9834414763630235\n",
      "f-score: 0.15604867573371514\n",
      "recall: 0.8861788617886179\n",
      "precision: 0.08555729984301413\n"
     ]
    }
   ],
   "source": [
    "#Build a 2 neighbor KNN model and print all the related metrics\n",
    "neigh = KNeighborsClassifier(n_neighbors=2)\n",
    "neigh.fit(X_rus, y_rus)\n",
    "\n",
    "#predict using the test data\n",
    "y_pred = neigh.predict(X_test_standardized)\n",
    "\n",
    "#print all the related metrics\n",
    "print(\"test accuracy\", accuracy_score(y_test, y_pred))\n",
    "print(\"training accuracy\", accuracy_score(y_rus,neigh.predict(X_rus)))\n",
    "\n",
    "print(\"The classification report on training data is \\n\")\n",
    "print(classification_report(y_rus, neigh.predict(X_rus)))\n",
    "print(\"The classification report on test data is \\n\")\n",
    "print(classification_report(y_test, neigh.predict(X_test_standardized)))\n",
    "\n",
    "#print testing accuracy, f score, precision and recall\n",
    "print(f'Accuracy: {neigh.score(X_test_standardized, y_test)}')\n",
    "print(f'f-score: {f1_score(y_test, y_pred)}')\n",
    "print(f'recall: {recall_score(y_test, y_pred)}')\n",
    "print(f'precision: {precision_score(y_test, y_pred)}')"
   ]
  },
  {
   "cell_type": "code",
   "execution_count": 32,
   "metadata": {},
   "outputs": [
    {
     "name": "stdout",
     "output_type": "stream",
     "text": [
      "{1: 0.9336675936069212, 2: 0.9834414763630235, 3: 0.9670093536698408, 4: 0.9840173028847504, 5: 0.9768826718350608, 6: 0.9851127777309626, 7: 0.9801831409230077, 8: 0.986489143563383, 9: 0.9829077834892278, 10: 0.9877952866492514, 11: 0.9857307379006208, 12: 0.9888205387489115, 13: 0.9868262127468329, 14: 0.9895368107637426, 15: 0.988258756776495, 16: 0.9898036572006405, 17: 0.9887924496502907, 18: 0.9900845481868487, 19: 0.9894946771158114, 20: 0.9904637510182298, 21: 0.9898879244965029, 22: 0.9905339737647819, 23: 0.9901407263840903, 24: 0.9908289093003005, 25: 0.9903935282716778, 26: 0.991081711187888, 27: 0.990674419257886, 28: 0.991250245779613, 29: 0.9909553102440942, 30: 0.9916013595123733, 31: 0.99115193393444, 32: 0.9917558495547878, 33: 0.9914047358220275, 34: 0.9917839386534086, 35: 0.9915732704137524, 36: 0.9920086514423753, 37: 0.9916996713575461, 38: 0.9922614533299626, 39: 0.9920226959916856, 40: 0.9924580770203084, 41: 0.9921210078368585, 42: 0.9925002106682397, 43: 0.9923176315272043, 44: 0.9927389680065166, 45: 0.9924861661189293, 46: 0.9932867054296227, 47: 0.9930198589927249, 48: 0.9935395073172102, 49: 0.9932726608803123, 50: 0.9939046655992809, 51: 0.9936097300637623, 52: 0.9942417347827308, 53: 0.993974888345833, 54: 0.9948737395016994, 55: 0.9945226257689391, 56: 0.9956461897137721, 57: 0.9953091205303222, 58: 0.9968540209544676, 59: 0.996460773573776, 60: 0.9979073621527486, 61: 0.9977669166596443, 62: 0.9987359905620629, 63: 0.9986798123648212, 64: 0.9987781242099941, 65: 0.9987359905620629, 66: 0.998876436055167, 67: 0.9988483469565461, 68: 0.9989045251537878, 69: 0.9988904806044774, 70: 0.9989045251537878, 71: 0.9988904806044774, 72: 0.9989466588017191, 73: 0.9989045251537878, 74: 0.9989185697030982, 75: 0.9989045251537878, 76: 0.9989326142524086, 77: 0.9989185697030982, 78: 0.9989887924496503, 79: 0.9989747479003399, 80: 0.9990309260975815, 81: 0.9990028369989608, 82: 0.9991292379427544, 83: 0.9991011488441336, 84: 0.9991994606893064, 85: 0.9991994606893064, 86: 0.9991994606893064, 87: 0.9991854161399961, 88: 0.9991994606893064, 89: 0.9991994606893064, 90: 0.9991994606893064, 91: 0.9991854161399961, 92: 0.9991854161399961, 93: 0.9991854161399961, 94: 0.9992135052386169, 95: 0.9991994606893064, 96: 0.9991994606893064, 97: 0.9991994606893064, 98: 0.9991994606893064, 99: 0.9991994606893064}\n",
      "{1: 0.943089430894309, 2: 0.8861788617886179, 3: 0.9024390243902439, 4: 0.8943089430894309, 5: 0.8943089430894309, 6: 0.8943089430894309, 7: 0.9024390243902439, 8: 0.8861788617886179, 9: 0.8861788617886179, 10: 0.8861788617886179, 11: 0.8861788617886179, 12: 0.8861788617886179, 13: 0.8861788617886179, 14: 0.8861788617886179, 15: 0.8861788617886179, 16: 0.8861788617886179, 17: 0.8861788617886179, 18: 0.8861788617886179, 19: 0.8861788617886179, 20: 0.8861788617886179, 21: 0.8861788617886179, 22: 0.8861788617886179, 23: 0.8861788617886179, 24: 0.8780487804878049, 25: 0.8780487804878049, 26: 0.8780487804878049, 27: 0.8780487804878049, 28: 0.8780487804878049, 29: 0.8780487804878049, 30: 0.8780487804878049, 31: 0.8780487804878049, 32: 0.8699186991869918, 33: 0.8699186991869918, 34: 0.8617886178861789, 35: 0.8617886178861789, 36: 0.8536585365853658, 37: 0.8617886178861789, 38: 0.8536585365853658, 39: 0.8536585365853658, 40: 0.8536585365853658, 41: 0.8617886178861789, 42: 0.8536585365853658, 43: 0.8617886178861789, 44: 0.8536585365853658, 45: 0.8536585365853658, 46: 0.8536585365853658, 47: 0.8536585365853658, 48: 0.8536585365853658, 49: 0.8536585365853658, 50: 0.8536585365853658, 51: 0.8536585365853658, 52: 0.8536585365853658, 53: 0.8536585365853658, 54: 0.8536585365853658, 55: 0.8536585365853658, 56: 0.8536585365853658, 57: 0.8536585365853658, 58: 0.8536585365853658, 59: 0.8536585365853658, 60: 0.8536585365853658, 61: 0.8536585365853658, 62: 0.8455284552845529, 63: 0.8455284552845529, 64: 0.8455284552845529, 65: 0.8455284552845529, 66: 0.8455284552845529, 67: 0.8455284552845529, 68: 0.8455284552845529, 69: 0.8455284552845529, 70: 0.8373983739837398, 71: 0.8455284552845529, 72: 0.8373983739837398, 73: 0.8455284552845529, 74: 0.8211382113821138, 75: 0.8292682926829268, 76: 0.8211382113821138, 77: 0.8211382113821138, 78: 0.8211382113821138, 79: 0.8211382113821138, 80: 0.8211382113821138, 81: 0.8211382113821138, 82: 0.8211382113821138, 83: 0.8211382113821138, 84: 0.8211382113821138, 85: 0.8211382113821138, 86: 0.8211382113821138, 87: 0.8211382113821138, 88: 0.8211382113821138, 89: 0.8211382113821138, 90: 0.8211382113821138, 91: 0.8211382113821138, 92: 0.8211382113821138, 93: 0.8211382113821138, 94: 0.8211382113821138, 95: 0.8211382113821138, 96: 0.8211382113821138, 97: 0.8211382113821138, 98: 0.8211382113821138, 99: 0.8211382113821138}\n",
      "{1: 0.024006622516556293, 2: 0.08555729984301413, 3: 0.04534313725490196, 4: 0.08906882591093117, 5: 0.06310958118187034, 6: 0.09507346585998272, 7: 0.07350993377483443, 8: 0.10312204351939451, 9: 0.08307926829268293, 10: 0.11307053941908714, 11: 0.09810981098109811, 12: 0.122334455667789, 13: 0.10551790900290416, 14: 0.12976190476190477, 15: 0.11707841031149302, 16: 0.13276492082825822, 17: 0.12206047032474804, 18: 0.13607990012484394, 19: 0.12930011862396204, 20: 0.14082687338501293, 21: 0.13374233128834356, 22: 0.14174252275682706, 23: 0.13676286072772897, 24: 0.1447721179624665, 25: 0.138996138996139, 26: 0.14835164835164835, 27: 0.142668428005284, 28: 0.15083798882681565, 29: 0.14654002713704206, 30: 0.15629522431259044, 31: 0.14937759336099585, 32: 0.15781710914454278, 33: 0.15220483641536273, 34: 0.1572700296735905, 35: 0.15384615384615385, 36: 0.1600609756097561, 37: 0.15588235294117647, 38: 0.164576802507837, 39: 0.16030534351145037, 40: 0.16826923076923078, 41: 0.16307692307692306, 42: 0.16908212560386474, 43: 0.16666666666666666, 44: 0.173841059602649, 45: 0.16881028938906753, 46: 0.18584070796460178, 47: 0.1797945205479452, 48: 0.19195612431444242, 49: 0.1855123674911661, 50: 0.20153550863723607, 51: 0.1937269372693727, 52: 0.2112676056338028, 53: 0.20348837209302326, 54: 0.2323008849557522, 55: 0.22012578616352202, 56: 0.26448362720403024, 57: 0.2494061757719715, 58: 0.33762057877813506, 59: 0.30973451327433627, 60: 0.4449152542372881, 61: 0.4268292682926829, 62: 0.5942857142857143, 63: 0.5810055865921788, 64: 0.6046511627906976, 65: 0.5942857142857143, 66: 0.6303030303030303, 67: 0.6227544910179641, 68: 0.6380368098159509, 69: 0.6341463414634146, 70: 0.639751552795031, 71: 0.6341463414634146, 72: 0.6518987341772152, 73: 0.6380368098159509, 74: 0.6474358974358975, 75: 0.6415094339622641, 76: 0.6516129032258065, 77: 0.6474358974358975, 78: 0.6688741721854304, 79: 0.6644736842105263, 80: 0.6824324324324325, 81: 0.6733333333333333, 82: 0.7163120567375887, 83: 0.7062937062937062, 84: 0.7426470588235294, 85: 0.7426470588235294, 86: 0.7426470588235294, 87: 0.7372262773722628, 88: 0.7426470588235294, 89: 0.7426470588235294, 90: 0.7426470588235294, 91: 0.7372262773722628, 92: 0.7372262773722628, 93: 0.7372262773722628, 94: 0.7481481481481481, 95: 0.7426470588235294, 96: 0.7426470588235294, 97: 0.7426470588235294, 98: 0.7426470588235294, 99: 0.7426470588235294}\n"
     ]
    }
   ],
   "source": [
    "#Build several models over a range of neighbors from 1 to 99\n",
    "accuracy = {}\n",
    "precision = {}\n",
    "recall = {}\n",
    "accuracy_list = []\n",
    "precision_list = []\n",
    "recall_list = []\n",
    "\n",
    "for k in range(1,100):\n",
    "    neigh = KNeighborsClassifier(n_neighbors=k)\n",
    "    neigh.fit(X_rus, y_rus)\n",
    "    y_pred = neigh.predict(X_test_standardized)\n",
    "    accuracy[k] = accuracy_score(y_test, y_pred)\n",
    "    recall[k] = recall_score(y_test, y_pred)\n",
    "    precision[k] = precision_score(y_test, y_pred)\n",
    "    accuracy_list.append(accuracy[k])\n",
    "    recall_list.append(recall[k])\n",
    "    precision_list.append(precision[k])\n",
    "print(accuracy)\n",
    "print(recall) \n",
    "print(precision)"
   ]
  },
  {
   "cell_type": "code",
   "execution_count": 34,
   "metadata": {},
   "outputs": [
    {
     "data": {
      "text/plain": [
       "Text(0, 0.5, 'Testing Accuracy')"
      ]
     },
     "execution_count": 34,
     "metadata": {},
     "output_type": "execute_result"
    },
    {
     "data": {
      "image/png": "[encoded data removed]",
      "text/plain": [
       "<Figure size 432x288 with 1 Axes>"
      ]
     },
     "metadata": {
      "needs_background": "light"
     },
     "output_type": "display_data"
    }
   ],
   "source": [
    "#plot validation accuracy for all the values of k\n",
    "k = range(1,100)\n",
    "plt.plot(k , accuracy_list)\n",
    "plt.xlabel(\"Value of K in KNN Classifier\")\n",
    "plt.ylabel(\"Testing Accuracy\")\n",
    "plt.show()"
   ]
  },
  {
   "cell_type": "code",
   "execution_count": 40,
   "metadata": {},
   "outputs": [
    {
     "data": {
      "text/plain": [
       "<matplotlib.lines.Line2D at 0x1ab062ad908>"
      ]
     },
     "execution_count": 40,
     "metadata": {},
     "output_type": "execute_result"
    },
    {
     "data": {
      "image/png": "[encoded data removed]",
      "text/plain": [
       "<Figure size 432x288 with 1 Axes>"
      ]
     },
     "metadata": {
      "needs_background": "light"
     },
     "output_type": "display_data"
    }
   ],
   "source": [
    "#plot validation precision for all the values of k. I am choosing k=85 based on the plateau reached for precision\n",
    "plt.plot(k , precision_list)\n",
    "plt.xlabel(\"Value of K in KNN Classifier\")\n",
    "plt.ylabel(\"Testing Precision\")\n",
    "plt.axvline(85,0,1, c = \"red\")\n",
    "plt.show()"
   ]
  },
  {
   "cell_type": "code",
   "execution_count": 37,
   "metadata": {},
   "outputs": [
    {
     "data": {
      "text/plain": [
       "Text(0, 0.5, 'Testing Recall')"
      ]
     },
     "execution_count": 37,
     "metadata": {},
     "output_type": "execute_result"
    },
    {
     "data": {
      "image/png": "[encoded data removed]",
      "text/plain": [
       "<Figure size 432x288 with 1 Axes>"
      ]
     },
     "metadata": {
      "needs_background": "light"
     },
     "output_type": "display_data"
    }
   ],
   "source": [
    "#plot validation recall for all the values of k\n",
    "plt.plot(k , recall_list)\n",
    "plt.xlabel(\"Value of K in KNN Classifier\")\n",
    "plt.ylabel(\"Testing Recall\")\n",
    "plt.show()"
   ]
  },
  {
   "cell_type": "code",
   "execution_count": 41,
   "metadata": {},
   "outputs": [
    {
     "name": "stdout",
     "output_type": "stream",
     "text": [
      "test accuracy 0.9991994606893064\n",
      "training accuracy 0.9132791327913279\n",
      "The classification report on training data is \n",
      "\n",
      "              precision    recall  f1-score   support\n",
      "\n",
      "           0       0.85      1.00      0.92       369\n",
      "           1       1.00      0.83      0.91       369\n",
      "\n",
      "    accuracy                           0.91       738\n",
      "   macro avg       0.93      0.91      0.91       738\n",
      "weighted avg       0.93      0.91      0.91       738\n",
      "\n",
      "The classification report on test data is \n",
      "\n",
      "              precision    recall  f1-score   support\n",
      "\n",
      "           0       1.00      1.00      1.00     71079\n",
      "           1       0.74      0.82      0.78       123\n",
      "\n",
      "    accuracy                           1.00     71202\n",
      "   macro avg       0.87      0.91      0.89     71202\n",
      "weighted avg       1.00      1.00      1.00     71202\n",
      "\n",
      "Accuracy: 0.9991994606893064\n",
      "f-score: 0.7799227799227799\n",
      "recall: 0.8211382113821138\n",
      "precision: 0.7426470588235294\n"
     ]
    }
   ],
   "source": [
    "#Build a KNN model with 85 neighbors on undersampled training data and validate on validation data\n",
    "neigh = KNeighborsClassifier(n_neighbors=85)\n",
    "neigh.fit(X_rus, y_rus)\n",
    "\n",
    "#predict using the test data\n",
    "y_pred = neigh.predict(X_test_standardized)\n",
    "\n",
    "#print all the related metrics\n",
    "print(\"test accuracy\", accuracy_score(y_test, y_pred))\n",
    "print(\"training accuracy\", accuracy_score(y_rus,neigh.predict(X_rus)))\n",
    "\n",
    "print(\"The classification report on training data is \\n\")\n",
    "print(classification_report(y_rus, neigh.predict(X_rus)))\n",
    "print(\"The classification report on test data is \\n\")\n",
    "print(classification_report(y_test, neigh.predict(X_test_standardized)))\n",
    "\n",
    "print(f'Accuracy: {neigh.score(X_test_standardized, y_test)}')\n",
    "print(f'f-score: {f1_score(y_test, y_pred)}')\n",
    "print(f'recall: {recall_score(y_test, y_pred)}')\n",
    "print(f'precision: {precision_score(y_test, y_pred)}')"
   ]
  },
  {
   "cell_type": "code",
   "execution_count": 44,
   "metadata": {},
   "outputs": [
    {
     "data": {
      "image/png": "[encoded data removed]",
      "text/plain": [
       "<Figure size 432x288 with 1 Axes>"
      ]
     },
     "metadata": {
      "needs_background": "light"
     },
     "output_type": "display_data"
    },
    {
     "data": {
      "text/plain": [
       "<Figure size 432x288 with 0 Axes>"
      ]
     },
     "metadata": {},
     "output_type": "display_data"
    }
   ],
   "source": [
    "#plot the ROC curve for validation data\n",
    "roc_auc = roc_auc_score(y_test, neigh.predict(X_test_standardized))\n",
    "fpr, tpr, thresholds = roc_curve(y_test, neigh.predict_proba(X_test_standardized)[:,1])\n",
    "\n",
    "#customizing the plot\n",
    "plt.figure()\n",
    "plt.plot(fpr, tpr, label='KNN (K= 85) (area = %0.2f)' % roc_auc)\n",
    "plt.plot([0, 1], [0, 1],'r--')\n",
    "plt.xlim([0.0, 1.0])\n",
    "plt.ylim([0.0, 1.05])\n",
    "plt.xlabel('False Positive Rate')\n",
    "plt.ylabel('True Positive Rate')\n",
    "plt.title('Receiver operating characteristic - KNN (k = 85) on test data')\n",
    "plt.legend(loc=\"lower right\")\n",
    "plt.savefig('Log_ROC')\n",
    "plt.figure()\n",
    "plt.show()"
   ]
  }
 ],
 "metadata": {
  "kernelspec": {
   "display_name": "Python 3",
   "language": "python",
   "name": "python3"
  },
  "language_info": {
   "codemirror_mode": {
    "name": "ipython",
    "version": 3
   },
   "file_extension": ".py",
   "mimetype": "text/x-python",
   "name": "python",
   "nbconvert_exporter": "python",
   "pygments_lexer": "ipython3",
   "version": "3.7.3"
  }
 },
 "nbformat": 4,
 "nbformat_minor": 2
}
