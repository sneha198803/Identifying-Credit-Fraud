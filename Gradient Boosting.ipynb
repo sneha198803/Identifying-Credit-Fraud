{
 "cells": [
  {
   "cell_type": "code",
   "execution_count": 1,
   "metadata": {},
   "outputs": [],
   "source": [
    "#import all the necessary libraries\n",
    "import pandas as pd\n",
    "from sklearn.metrics import classification_report, confusion_matrix\n",
    "from sklearn.ensemble import GradientBoostingClassifier\n",
    "\n",
    "import os\n",
    "import pandas as pd\n",
    "import numpy as np\n",
    "import matplotlib.pyplot as plt\n",
    "from sklearn import preprocessing\n",
    "from sklearn.model_selection import train_test_split\n",
    "from imblearn.under_sampling import RandomUnderSampler\n",
    "from imblearn.over_sampling import RandomOverSampler\n",
    "from imblearn.combine import SMOTETomek\n",
    "from collections import Counter\n",
    "from sklearn import metrics\n",
    "from sklearn.metrics import classification_report\n",
    "from sklearn.metrics import roc_auc_score\n",
    "from sklearn.metrics import roc_curve\n",
    "\n",
    "from sklearn.model_selection import cross_val_score\n",
    "from sklearn.model_selection import StratifiedKFold\n",
    "from sklearn.metrics import f1_score\n",
    "from sklearn.metrics import recall_score\n",
    "from sklearn.metrics import precision_score"
   ]
  },
  {
   "cell_type": "code",
   "execution_count": 2,
   "metadata": {},
   "outputs": [
    {
     "data": {
      "text/html": [
       "<div>\n",
       "<style scoped>\n",
       "    .dataframe tbody tr th:only-of-type {\n",
       "        vertical-align: middle;\n",
       "    }\n",
       "\n",
       "    .dataframe tbody tr th {\n",
       "        vertical-align: top;\n",
       "    }\n",
       "\n",
       "    .dataframe thead th {\n",
       "        text-align: right;\n",
       "    }\n",
       "</style>\n",
       "<table border=\"1\" class=\"dataframe\">\n",
       "  <thead>\n",
       "    <tr style=\"text-align: right;\">\n",
       "      <th></th>\n",
       "      <th>Time</th>\n",
       "      <th>V1</th>\n",
       "      <th>V2</th>\n",
       "      <th>V3</th>\n",
       "      <th>V4</th>\n",
       "      <th>V5</th>\n",
       "      <th>V6</th>\n",
       "      <th>V7</th>\n",
       "      <th>V8</th>\n",
       "      <th>V9</th>\n",
       "      <th>...</th>\n",
       "      <th>V21</th>\n",
       "      <th>V22</th>\n",
       "      <th>V23</th>\n",
       "      <th>V24</th>\n",
       "      <th>V25</th>\n",
       "      <th>V26</th>\n",
       "      <th>V27</th>\n",
       "      <th>V28</th>\n",
       "      <th>Amount</th>\n",
       "      <th>Class</th>\n",
       "    </tr>\n",
       "  </thead>\n",
       "  <tbody>\n",
       "    <tr>\n",
       "      <th>0</th>\n",
       "      <td>0.0</td>\n",
       "      <td>-1.359807</td>\n",
       "      <td>-0.072781</td>\n",
       "      <td>2.536347</td>\n",
       "      <td>1.378155</td>\n",
       "      <td>-0.338321</td>\n",
       "      <td>0.462388</td>\n",
       "      <td>0.239599</td>\n",
       "      <td>0.098698</td>\n",
       "      <td>0.363787</td>\n",
       "      <td>...</td>\n",
       "      <td>-0.018307</td>\n",
       "      <td>0.277838</td>\n",
       "      <td>-0.110474</td>\n",
       "      <td>0.066928</td>\n",
       "      <td>0.128539</td>\n",
       "      <td>-0.189115</td>\n",
       "      <td>0.133558</td>\n",
       "      <td>-0.021053</td>\n",
       "      <td>149.62</td>\n",
       "      <td>0</td>\n",
       "    </tr>\n",
       "    <tr>\n",
       "      <th>1</th>\n",
       "      <td>0.0</td>\n",
       "      <td>1.191857</td>\n",
       "      <td>0.266151</td>\n",
       "      <td>0.166480</td>\n",
       "      <td>0.448154</td>\n",
       "      <td>0.060018</td>\n",
       "      <td>-0.082361</td>\n",
       "      <td>-0.078803</td>\n",
       "      <td>0.085102</td>\n",
       "      <td>-0.255425</td>\n",
       "      <td>...</td>\n",
       "      <td>-0.225775</td>\n",
       "      <td>-0.638672</td>\n",
       "      <td>0.101288</td>\n",
       "      <td>-0.339846</td>\n",
       "      <td>0.167170</td>\n",
       "      <td>0.125895</td>\n",
       "      <td>-0.008983</td>\n",
       "      <td>0.014724</td>\n",
       "      <td>2.69</td>\n",
       "      <td>0</td>\n",
       "    </tr>\n",
       "    <tr>\n",
       "      <th>2</th>\n",
       "      <td>1.0</td>\n",
       "      <td>-1.358354</td>\n",
       "      <td>-1.340163</td>\n",
       "      <td>1.773209</td>\n",
       "      <td>0.379780</td>\n",
       "      <td>-0.503198</td>\n",
       "      <td>1.800499</td>\n",
       "      <td>0.791461</td>\n",
       "      <td>0.247676</td>\n",
       "      <td>-1.514654</td>\n",
       "      <td>...</td>\n",
       "      <td>0.247998</td>\n",
       "      <td>0.771679</td>\n",
       "      <td>0.909412</td>\n",
       "      <td>-0.689281</td>\n",
       "      <td>-0.327642</td>\n",
       "      <td>-0.139097</td>\n",
       "      <td>-0.055353</td>\n",
       "      <td>-0.059752</td>\n",
       "      <td>378.66</td>\n",
       "      <td>0</td>\n",
       "    </tr>\n",
       "    <tr>\n",
       "      <th>3</th>\n",
       "      <td>1.0</td>\n",
       "      <td>-0.966272</td>\n",
       "      <td>-0.185226</td>\n",
       "      <td>1.792993</td>\n",
       "      <td>-0.863291</td>\n",
       "      <td>-0.010309</td>\n",
       "      <td>1.247203</td>\n",
       "      <td>0.237609</td>\n",
       "      <td>0.377436</td>\n",
       "      <td>-1.387024</td>\n",
       "      <td>...</td>\n",
       "      <td>-0.108300</td>\n",
       "      <td>0.005274</td>\n",
       "      <td>-0.190321</td>\n",
       "      <td>-1.175575</td>\n",
       "      <td>0.647376</td>\n",
       "      <td>-0.221929</td>\n",
       "      <td>0.062723</td>\n",
       "      <td>0.061458</td>\n",
       "      <td>123.50</td>\n",
       "      <td>0</td>\n",
       "    </tr>\n",
       "    <tr>\n",
       "      <th>4</th>\n",
       "      <td>2.0</td>\n",
       "      <td>-1.158233</td>\n",
       "      <td>0.877737</td>\n",
       "      <td>1.548718</td>\n",
       "      <td>0.403034</td>\n",
       "      <td>-0.407193</td>\n",
       "      <td>0.095921</td>\n",
       "      <td>0.592941</td>\n",
       "      <td>-0.270533</td>\n",
       "      <td>0.817739</td>\n",
       "      <td>...</td>\n",
       "      <td>-0.009431</td>\n",
       "      <td>0.798278</td>\n",
       "      <td>-0.137458</td>\n",
       "      <td>0.141267</td>\n",
       "      <td>-0.206010</td>\n",
       "      <td>0.502292</td>\n",
       "      <td>0.219422</td>\n",
       "      <td>0.215153</td>\n",
       "      <td>69.99</td>\n",
       "      <td>0</td>\n",
       "    </tr>\n",
       "  </tbody>\n",
       "</table>\n",
       "<p>5 rows × 31 columns</p>\n",
       "</div>"
      ],
      "text/plain": [
       "   Time        V1        V2        V3        V4        V5        V6        V7  \\\n",
       "0   0.0 -1.359807 -0.072781  2.536347  1.378155 -0.338321  0.462388  0.239599   \n",
       "1   0.0  1.191857  0.266151  0.166480  0.448154  0.060018 -0.082361 -0.078803   \n",
       "2   1.0 -1.358354 -1.340163  1.773209  0.379780 -0.503198  1.800499  0.791461   \n",
       "3   1.0 -0.966272 -0.185226  1.792993 -0.863291 -0.010309  1.247203  0.237609   \n",
       "4   2.0 -1.158233  0.877737  1.548718  0.403034 -0.407193  0.095921  0.592941   \n",
       "\n",
       "         V8        V9  ...       V21       V22       V23       V24       V25  \\\n",
       "0  0.098698  0.363787  ... -0.018307  0.277838 -0.110474  0.066928  0.128539   \n",
       "1  0.085102 -0.255425  ... -0.225775 -0.638672  0.101288 -0.339846  0.167170   \n",
       "2  0.247676 -1.514654  ...  0.247998  0.771679  0.909412 -0.689281 -0.327642   \n",
       "3  0.377436 -1.387024  ... -0.108300  0.005274 -0.190321 -1.175575  0.647376   \n",
       "4 -0.270533  0.817739  ... -0.009431  0.798278 -0.137458  0.141267 -0.206010   \n",
       "\n",
       "        V26       V27       V28  Amount  Class  \n",
       "0 -0.189115  0.133558 -0.021053  149.62      0  \n",
       "1  0.125895 -0.008983  0.014724    2.69      0  \n",
       "2 -0.139097 -0.055353 -0.059752  378.66      0  \n",
       "3 -0.221929  0.062723  0.061458  123.50      0  \n",
       "4  0.502292  0.219422  0.215153   69.99      0  \n",
       "\n",
       "[5 rows x 31 columns]"
      ]
     },
     "execution_count": 2,
     "metadata": {},
     "output_type": "execute_result"
    }
   ],
   "source": [
    "#read the data\n",
    "data = pd.read_csv(\"C:\\\\Users\\\\tejan\\\\Downloads\\\\creditcardfraud\\\\creditcard.csv\")\n",
    "data.head()"
   ]
  },
  {
   "cell_type": "code",
   "execution_count": 3,
   "metadata": {},
   "outputs": [
    {
     "name": "stdout",
     "output_type": "stream",
     "text": [
      "The first 5 rows in the dataset are : \n",
      "          V1        V2        V3        V4        V5        V6        V7  \\\n",
      "0  0.011068  0.672004 -0.939272 -0.345831  0.736893 -0.194330  0.535538   \n",
      "1 -0.171802  0.667620  0.842058  0.047052 -0.017893 -0.745167  0.544538   \n",
      "2 -0.126808  0.499145  0.124836 -0.508023  0.152991 -0.616567  0.617461   \n",
      "3 -0.020276  0.353251 -0.098430 -0.417469  0.744346 -0.046613  0.636477   \n",
      "4 -2.470840  2.030383 -2.060765 -0.159184 -1.545050 -0.935953 -1.128701   \n",
      "\n",
      "         V8        V9       V10  ...       V21       V22       V23       V24  \\\n",
      "0  0.249765 -0.455568 -0.961957  ...  0.451002  1.242712 -0.406219 -2.383611   \n",
      "1 -0.034197 -0.273403 -0.453668  ... -0.370656 -1.020303 -0.018123  0.515668   \n",
      "2  0.069294  0.176808  0.105910  ... -0.344201 -0.843687  0.179235 -0.081430   \n",
      "3 -0.005219 -0.013437 -0.326958  ... -0.250802 -0.699250 -0.010929 -2.006373   \n",
      "4  1.885118  0.135228  0.183920  ...  0.245561 -0.415914  0.828651 -0.030070   \n",
      "\n",
      "        V25       V26       V27       V28    Amount  Class  \n",
      "0 -0.306647 -0.187582 -0.037876  0.056387 -0.200850      0  \n",
      "1 -0.347139  0.154590  0.594596  0.298501 -0.345702      0  \n",
      "2 -1.081149  0.275481  0.841665  0.438428 -0.320195      0  \n",
      "3 -0.701570 -1.115319 -0.090285  0.136319 -0.316058      0  \n",
      "4 -1.700655  0.060414 -6.562047 -1.718740 -0.234995      0  \n",
      "\n",
      "[5 rows x 30 columns]\n",
      "\n",
      "\n",
      "The shape of the data is : (426472, 30)\n"
     ]
    }
   ],
   "source": [
    "#read the already oversampled training data\n",
    "SMOTE_TRAIN = pd.read_csv(\"C:\\\\Users\\\\tejan\\\\Downloads\\\\creditcardfraud\\\\SMOTE_TRAIN.csv\")\n",
    "\n",
    "print(\"The first 5 rows in the dataset are :\", \"\\n\", SMOTE_TRAIN.head())\n",
    "print(\"\\n\")\n",
    "print(\"The shape of the data is :\", str(SMOTE_TRAIN.shape))\n"
   ]
  },
  {
   "cell_type": "code",
   "execution_count": 4,
   "metadata": {},
   "outputs": [],
   "source": [
    "#creating features and lables and converting them to arrays\n",
    "X = SMOTE_TRAIN.iloc[:,:-1].values\n",
    "y = SMOTE_TRAIN.iloc[:,-1].values.reshape(-1)\n"
   ]
  },
  {
   "cell_type": "code",
   "execution_count": 5,
   "metadata": {},
   "outputs": [
    {
     "data": {
      "text/html": [
       "<div>\n",
       "<style scoped>\n",
       "    .dataframe tbody tr th:only-of-type {\n",
       "        vertical-align: middle;\n",
       "    }\n",
       "\n",
       "    .dataframe tbody tr th {\n",
       "        vertical-align: top;\n",
       "    }\n",
       "\n",
       "    .dataframe thead th {\n",
       "        text-align: right;\n",
       "    }\n",
       "</style>\n",
       "<table border=\"1\" class=\"dataframe\">\n",
       "  <thead>\n",
       "    <tr style=\"text-align: right;\">\n",
       "      <th></th>\n",
       "      <th>V1</th>\n",
       "      <th>V2</th>\n",
       "      <th>V3</th>\n",
       "      <th>V4</th>\n",
       "      <th>V5</th>\n",
       "      <th>V6</th>\n",
       "      <th>V7</th>\n",
       "      <th>V8</th>\n",
       "      <th>V9</th>\n",
       "      <th>V10</th>\n",
       "      <th>...</th>\n",
       "      <th>V21</th>\n",
       "      <th>V22</th>\n",
       "      <th>V23</th>\n",
       "      <th>V24</th>\n",
       "      <th>V25</th>\n",
       "      <th>V26</th>\n",
       "      <th>V27</th>\n",
       "      <th>V28</th>\n",
       "      <th>Amount</th>\n",
       "      <th>Class</th>\n",
       "    </tr>\n",
       "  </thead>\n",
       "  <tbody>\n",
       "    <tr>\n",
       "      <th>0</th>\n",
       "      <td>0.595847</td>\n",
       "      <td>0.044364</td>\n",
       "      <td>-0.481136</td>\n",
       "      <td>1.113728</td>\n",
       "      <td>1.565024</td>\n",
       "      <td>3.095099</td>\n",
       "      <td>-0.508951</td>\n",
       "      <td>0.824169</td>\n",
       "      <td>-0.299097</td>\n",
       "      <td>0.524206</td>\n",
       "      <td>...</td>\n",
       "      <td>-0.166002</td>\n",
       "      <td>-0.490298</td>\n",
       "      <td>-0.199473</td>\n",
       "      <td>1.672928</td>\n",
       "      <td>1.492112</td>\n",
       "      <td>0.186982</td>\n",
       "      <td>0.016994</td>\n",
       "      <td>0.045908</td>\n",
       "      <td>-0.254884</td>\n",
       "      <td>0</td>\n",
       "    </tr>\n",
       "    <tr>\n",
       "      <th>1</th>\n",
       "      <td>-0.688587</td>\n",
       "      <td>-0.068823</td>\n",
       "      <td>-0.212017</td>\n",
       "      <td>-1.393636</td>\n",
       "      <td>0.840172</td>\n",
       "      <td>-0.328568</td>\n",
       "      <td>0.084269</td>\n",
       "      <td>0.376943</td>\n",
       "      <td>0.495499</td>\n",
       "      <td>-1.384251</td>\n",
       "      <td>...</td>\n",
       "      <td>0.243799</td>\n",
       "      <td>0.714665</td>\n",
       "      <td>-0.907241</td>\n",
       "      <td>-1.762510</td>\n",
       "      <td>-0.272231</td>\n",
       "      <td>-1.588147</td>\n",
       "      <td>0.290746</td>\n",
       "      <td>-0.439877</td>\n",
       "      <td>-0.290407</td>\n",
       "      <td>0</td>\n",
       "    </tr>\n",
       "    <tr>\n",
       "      <th>2</th>\n",
       "      <td>1.006327</td>\n",
       "      <td>-0.224225</td>\n",
       "      <td>-0.179463</td>\n",
       "      <td>0.346088</td>\n",
       "      <td>-0.536124</td>\n",
       "      <td>-0.396693</td>\n",
       "      <td>-0.475428</td>\n",
       "      <td>-0.058114</td>\n",
       "      <td>1.291554</td>\n",
       "      <td>-0.161231</td>\n",
       "      <td>...</td>\n",
       "      <td>0.255680</td>\n",
       "      <td>1.129473</td>\n",
       "      <td>0.152159</td>\n",
       "      <td>-0.122846</td>\n",
       "      <td>-0.125282</td>\n",
       "      <td>-0.428931</td>\n",
       "      <td>0.111035</td>\n",
       "      <td>-0.110030</td>\n",
       "      <td>-0.305768</td>\n",
       "      <td>0</td>\n",
       "    </tr>\n",
       "    <tr>\n",
       "      <th>3</th>\n",
       "      <td>0.554562</td>\n",
       "      <td>0.049361</td>\n",
       "      <td>0.207085</td>\n",
       "      <td>0.721990</td>\n",
       "      <td>-0.001831</td>\n",
       "      <td>0.182755</td>\n",
       "      <td>-0.018892</td>\n",
       "      <td>0.112511</td>\n",
       "      <td>-0.016392</td>\n",
       "      <td>0.008619</td>\n",
       "      <td>...</td>\n",
       "      <td>-0.128345</td>\n",
       "      <td>-0.280929</td>\n",
       "      <td>-0.103905</td>\n",
       "      <td>-0.519661</td>\n",
       "      <td>1.018941</td>\n",
       "      <td>-0.902021</td>\n",
       "      <td>0.083397</td>\n",
       "      <td>0.032692</td>\n",
       "      <td>-0.200928</td>\n",
       "      <td>0</td>\n",
       "    </tr>\n",
       "    <tr>\n",
       "      <th>4</th>\n",
       "      <td>0.079405</td>\n",
       "      <td>0.088783</td>\n",
       "      <td>0.211060</td>\n",
       "      <td>-0.324768</td>\n",
       "      <td>0.705555</td>\n",
       "      <td>-0.438104</td>\n",
       "      <td>0.677387</td>\n",
       "      <td>-0.320620</td>\n",
       "      <td>0.332686</td>\n",
       "      <td>0.352200</td>\n",
       "      <td>...</td>\n",
       "      <td>-0.369743</td>\n",
       "      <td>-0.700626</td>\n",
       "      <td>0.007457</td>\n",
       "      <td>-0.861676</td>\n",
       "      <td>-2.099787</td>\n",
       "      <td>0.192861</td>\n",
       "      <td>-0.931163</td>\n",
       "      <td>-1.113108</td>\n",
       "      <td>-0.336529</td>\n",
       "      <td>0</td>\n",
       "    </tr>\n",
       "  </tbody>\n",
       "</table>\n",
       "<p>5 rows × 30 columns</p>\n",
       "</div>"
      ],
      "text/plain": [
       "         V1        V2        V3        V4        V5        V6        V7  \\\n",
       "0  0.595847  0.044364 -0.481136  1.113728  1.565024  3.095099 -0.508951   \n",
       "1 -0.688587 -0.068823 -0.212017 -1.393636  0.840172 -0.328568  0.084269   \n",
       "2  1.006327 -0.224225 -0.179463  0.346088 -0.536124 -0.396693 -0.475428   \n",
       "3  0.554562  0.049361  0.207085  0.721990 -0.001831  0.182755 -0.018892   \n",
       "4  0.079405  0.088783  0.211060 -0.324768  0.705555 -0.438104  0.677387   \n",
       "\n",
       "         V8        V9       V10  ...       V21       V22       V23       V24  \\\n",
       "0  0.824169 -0.299097  0.524206  ... -0.166002 -0.490298 -0.199473  1.672928   \n",
       "1  0.376943  0.495499 -1.384251  ...  0.243799  0.714665 -0.907241 -1.762510   \n",
       "2 -0.058114  1.291554 -0.161231  ...  0.255680  1.129473  0.152159 -0.122846   \n",
       "3  0.112511 -0.016392  0.008619  ... -0.128345 -0.280929 -0.103905 -0.519661   \n",
       "4 -0.320620  0.332686  0.352200  ... -0.369743 -0.700626  0.007457 -0.861676   \n",
       "\n",
       "        V25       V26       V27       V28    Amount  Class  \n",
       "0  1.492112  0.186982  0.016994  0.045908 -0.254884      0  \n",
       "1 -0.272231 -1.588147  0.290746 -0.439877 -0.290407      0  \n",
       "2 -0.125282 -0.428931  0.111035 -0.110030 -0.305768      0  \n",
       "3  1.018941 -0.902021  0.083397  0.032692 -0.200928      0  \n",
       "4 -2.099787  0.192861 -0.931163 -1.113108 -0.336529      0  \n",
       "\n",
       "[5 rows x 30 columns]"
      ]
     },
     "execution_count": 5,
     "metadata": {},
     "output_type": "execute_result"
    }
   ],
   "source": [
    "#reading the test data\n",
    "testdata = pd.read_csv(\"C:\\\\Users\\\\tejan\\\\Downloads\\\\creditcardfraud\\\\test.csv\")\n",
    "testdata.head()"
   ]
  },
  {
   "cell_type": "code",
   "execution_count": 6,
   "metadata": {},
   "outputs": [],
   "source": [
    "X_test = testdata.iloc[:,:-1].values\n",
    "y_test = testdata.iloc[:,-1].values.reshape(-1)"
   ]
  },
  {
   "cell_type": "markdown",
   "metadata": {},
   "source": [
    "# Gradient Boosting model to find out the best learning rate"
   ]
  },
  {
   "cell_type": "code",
   "execution_count": 10,
   "metadata": {},
   "outputs": [
    {
     "name": "stdout",
     "output_type": "stream",
     "text": [
      "Learning rate:  0.05\n",
      "Accuracy score (training): 0.936\n",
      "Accuracy score (validation): 0.987\n",
      "Learning rate:  0.075\n",
      "Accuracy score (training): 0.944\n",
      "Accuracy score (validation): 0.985\n",
      "Learning rate:  0.1\n",
      "Accuracy score (training): 0.949\n",
      "Accuracy score (validation): 0.983\n",
      "Learning rate:  0.25\n",
      "Accuracy score (training): 0.972\n",
      "Accuracy score (validation): 0.982\n",
      "Learning rate:  0.5\n",
      "Accuracy score (training): 0.985\n",
      "Accuracy score (validation): 0.983\n",
      "Learning rate:  0.75\n",
      "Accuracy score (training): 0.990\n",
      "Accuracy score (validation): 0.987\n",
      "Learning rate:  1\n",
      "Accuracy score (training): 0.992\n",
      "Accuracy score (validation): 0.988\n"
     ]
    }
   ],
   "source": [
    "\n",
    "lr_list = [0.05, 0.075, 0.1, 0.25, 0.5, 0.75, 1]\n",
    "\n",
    "for learning_rate in lr_list:\n",
    "    gb_clf = GradientBoostingClassifier(n_estimators=100, subsample = 0.9, learning_rate=learning_rate, max_features=2, max_depth=2, random_state=0)\n",
    "    gb_clf.fit(X, y)\n",
    "\n",
    "    print(\"Learning rate: \", learning_rate)\n",
    "    print(\"Accuracy score (training): {0:.3f}\".format(gb_clf.score(X, y)))\n",
    "    print(\"Accuracy score (validation): {0:.3f}\".format(gb_clf.score(X_test, y_test)))"
   ]
  },
  {
   "cell_type": "code",
   "execution_count": 14,
   "metadata": {},
   "outputs": [
    {
     "name": "stdout",
     "output_type": "stream",
     "text": [
      "Confusion Matrix:\n",
      "[[70853   226]\n",
      " [   18   105]]\n",
      "Classification Report\n",
      "              precision    recall  f1-score   support\n",
      "\n",
      "           0       1.00      1.00      1.00     71079\n",
      "           1       0.32      0.85      0.46       123\n",
      "\n",
      "    accuracy                           1.00     71202\n",
      "   macro avg       0.66      0.93      0.73     71202\n",
      "weighted avg       1.00      1.00      1.00     71202\n",
      "\n"
     ]
    }
   ],
   "source": [
    "#building a GB model with learning rate of 1 since it has the best validation accuracy\n",
    "gb_clf2 = GradientBoostingClassifier(n_estimators=100, subsample = 0.8, learning_rate=1, max_features=\"sqrt\", max_depth=3, random_state=0)\n",
    "gb_clf2.fit(X, y)\n",
    "predictions = gb_clf2.predict(X_test)\n",
    "\n",
    "print(\"Confusion Matrix:\")\n",
    "print(confusion_matrix(y_test, predictions))\n",
    "\n",
    "print(\"Classification Report\")\n",
    "print(classification_report(y_test, predictions))"
   ]
  },
  {
   "cell_type": "code",
   "execution_count": 19,
   "metadata": {},
   "outputs": [
    {
     "data": {
      "image/png": "[encoded data removed]",
      "text/plain": [
       "<Figure size 432x288 with 1 Axes>"
      ]
     },
     "metadata": {
      "needs_background": "light"
     },
     "output_type": "display_data"
    },
    {
     "data": {
      "text/plain": [
       "<Figure size 432x288 with 0 Axes>"
      ]
     },
     "metadata": {},
     "output_type": "display_data"
    }
   ],
   "source": [
    "#roc curve\n",
    "logit_roc_auc = roc_auc_score(y_test, gb_clf2.predict_proba(X_test)[:,1])\n",
    "fpr, tpr, thresholds = roc_curve(y_test, gb_clf2.predict_proba(X_test)[:,1])\n",
    "plt.figure()\n",
    "plt.plot(fpr, tpr, label='Logistic Regression (area = %0.2f)' % logit_roc_auc)\n",
    "plt.plot([0, 1], [0, 1],'r--')\n",
    "plt.xlim([0.0, 1.0])\n",
    "plt.ylim([0.0, 1.05])\n",
    "plt.xlabel('False Positive Rate')\n",
    "plt.ylabel('True Positive Rate')\n",
    "plt.title('Receiver operating characteristic - GB test data')\n",
    "plt.legend(loc=\"lower right\")\n",
    "plt.savefig('Log_ROC')\n",
    "plt.figure()\n",
    "plt.show()"
   ]
  },
  {
   "cell_type": "code",
   "execution_count": 21,
   "metadata": {},
   "outputs": [
    {
     "name": "stdout",
     "output_type": "stream",
     "text": [
      "Confusion Matrix:\n",
      "[[69272  1807]\n",
      " [    8   115]]\n",
      "Classification Report\n",
      "              precision    recall  f1-score   support\n",
      "\n",
      "           0       1.00      0.97      0.99     71079\n",
      "           1       0.06      0.93      0.11       123\n",
      "\n",
      "    accuracy                           0.97     71202\n",
      "   macro avg       0.53      0.95      0.55     71202\n",
      "weighted avg       1.00      0.97      0.99     71202\n",
      "\n"
     ]
    }
   ],
   "source": [
    "#another model with different max depth and subsample\n",
    "gb_clf3 = GradientBoostingClassifier(n_estimators=100, subsample = 0.85, learning_rate=1, max_features=\"sqrt\", max_depth=1, random_state=0)\n",
    "gb_clf3.fit(X, y)\n",
    "predictions = gb_clf3.predict(X_test)\n",
    "\n",
    "print(\"Confusion Matrix:\")\n",
    "print(confusion_matrix(y_test, predictions))\n",
    "\n",
    "print(\"Classification Report\")\n",
    "print(classification_report(y_test, predictions))"
   ]
  },
  {
   "cell_type": "code",
   "execution_count": 22,
   "metadata": {},
   "outputs": [
    {
     "data": {
      "image/png": "[encoded data removed]",
      "text/plain": [
       "<Figure size 432x288 with 1 Axes>"
      ]
     },
     "metadata": {
      "needs_background": "light"
     },
     "output_type": "display_data"
    },
    {
     "data": {
      "text/plain": [
       "<Figure size 432x288 with 0 Axes>"
      ]
     },
     "metadata": {},
     "output_type": "display_data"
    }
   ],
   "source": [
    "#roc curve\n",
    "logit_roc_auc = roc_auc_score(y_test, gb_clf3.predict_proba(X_test)[:,1])\n",
    "fpr, tpr, thresholds = roc_curve(y_test, gb_clf3.predict_proba(X_test)[:,1])\n",
    "plt.figure()\n",
    "plt.plot(fpr, tpr, label='Logistic Regression (area = %0.2f)' % logit_roc_auc)\n",
    "plt.plot([0, 1], [0, 1],'r--')\n",
    "plt.xlim([0.0, 1.0])\n",
    "plt.ylim([0.0, 1.05])\n",
    "plt.xlabel('False Positive Rate')\n",
    "plt.ylabel('True Positive Rate')\n",
    "plt.title('Receiver operating characteristic - GB test data')\n",
    "plt.legend(loc=\"lower right\")\n",
    "plt.savefig('Log_ROC')\n",
    "plt.figure()\n",
    "plt.show()"
   ]
  },
  {
   "cell_type": "code",
   "execution_count": 27,
   "metadata": {},
   "outputs": [
    {
     "name": "stdout",
     "output_type": "stream",
     "text": [
      "Confusion Matrix:\n",
      "[[70980    99]\n",
      " [   22   101]]\n",
      "Classification Report\n",
      "              precision    recall  f1-score   support\n",
      "\n",
      "           0       1.00      1.00      1.00     71079\n",
      "           1       0.51      0.82      0.63       123\n",
      "\n",
      "    accuracy                           1.00     71202\n",
      "   macro avg       0.75      0.91      0.81     71202\n",
      "weighted avg       1.00      1.00      1.00     71202\n",
      "\n"
     ]
    }
   ],
   "source": [
    "#another model with different max depth\n",
    "gb_clf4 = GradientBoostingClassifier(n_estimators=100, subsample = 0.85, learning_rate=1, max_features=\"sqrt\", max_depth=4, random_state=0)\n",
    "gb_clf4.fit(X, y)\n",
    "predictions = gb_clf4.predict(X_test)\n",
    "\n",
    "print(\"Confusion Matrix:\")\n",
    "print(confusion_matrix(y_test, predictions))\n",
    "\n",
    "print(\"Classification Report\")\n",
    "print(classification_report(y_test, predictions))"
   ]
  },
  {
   "cell_type": "code",
   "execution_count": 28,
   "metadata": {},
   "outputs": [
    {
     "data": {
      "image/png": "[encoded data removed]",
      "text/plain": [
       "<Figure size 432x288 with 1 Axes>"
      ]
     },
     "metadata": {
      "needs_background": "light"
     },
     "output_type": "display_data"
    },
    {
     "data": {
      "text/plain": [
       "<Figure size 432x288 with 0 Axes>"
      ]
     },
     "metadata": {},
     "output_type": "display_data"
    }
   ],
   "source": [
    "#roc curve\n",
    "logit_roc_auc = roc_auc_score(y_test, gb_clf4.predict_proba(X_test)[:,1])\n",
    "fpr, tpr, thresholds = roc_curve(y_test, gb_clf4.predict_proba(X_test)[:,1])\n",
    "plt.figure()\n",
    "plt.plot(fpr, tpr, label='Logistic Regression (area = %0.2f)' % logit_roc_auc)\n",
    "plt.plot([0, 1], [0, 1],'r--')\n",
    "plt.xlim([0.0, 1.0])\n",
    "plt.ylim([0.0, 1.05])\n",
    "plt.xlabel('False Positive Rate')\n",
    "plt.ylabel('True Positive Rate')\n",
    "plt.title('Receiver operating characteristic - GB test data')\n",
    "plt.legend(loc=\"lower right\")\n",
    "plt.savefig('Log_ROC')\n",
    "plt.figure()\n",
    "plt.show()"
   ]
  },
  {
   "cell_type": "code",
   "execution_count": 11,
   "metadata": {},
   "outputs": [
    {
     "name": "stdout",
     "output_type": "stream",
     "text": [
      "Confusion Matrix:\n",
      "[[40747 30332]\n",
      " [   31    92]]\n",
      "Classification Report\n",
      "              precision    recall  f1-score   support\n",
      "\n",
      "           0       1.00      0.57      0.73     71079\n",
      "           1       0.00      0.75      0.01       123\n",
      "\n",
      "    accuracy                           0.57     71202\n",
      "   macro avg       0.50      0.66      0.37     71202\n",
      "weighted avg       1.00      0.57      0.73     71202\n",
      "\n"
     ]
    }
   ],
   "source": [
    "#another GB model with different features and max depth\n",
    "gb_clf5 = GradientBoostingClassifier(n_estimators=100, subsample = 1, learning_rate=1, max_features=2, max_depth=8, random_state=0)\n",
    "gb_clf5.fit(X, y)\n",
    "predictions = gb_clf5.predict(X_test)\n",
    "\n",
    "print(\"Confusion Matrix:\")\n",
    "print(confusion_matrix(y_test, predictions))\n",
    "\n",
    "print(\"Classification Report\")\n",
    "print(classification_report(y_test, predictions))"
   ]
  },
  {
   "cell_type": "code",
   "execution_count": 12,
   "metadata": {},
   "outputs": [
    {
     "data": {
      "image/png": "[encoded data removed]",
      "text/plain": [
       "<Figure size 432x288 with 1 Axes>"
      ]
     },
     "metadata": {
      "needs_background": "light"
     },
     "output_type": "display_data"
    },
    {
     "data": {
      "text/plain": [
       "<Figure size 432x288 with 0 Axes>"
      ]
     },
     "metadata": {},
     "output_type": "display_data"
    }
   ],
   "source": [
    "#roc curve\n",
    "logit_roc_auc = roc_auc_score(y_test, gb_clf5.predict_proba(X_test)[:,1])\n",
    "fpr, tpr, thresholds = roc_curve(y_test, gb_clf5.predict_proba(X_test)[:,1])\n",
    "plt.figure()\n",
    "plt.plot(fpr, tpr, label='Logistic Regression (area = %0.2f)' % logit_roc_auc)\n",
    "plt.plot([0, 1], [0, 1],'r--')\n",
    "plt.xlim([0.0, 1.0])\n",
    "plt.ylim([0.0, 1.05])\n",
    "plt.xlabel('False Positive Rate')\n",
    "plt.ylabel('True Positive Rate')\n",
    "plt.title('Receiver operating characteristic - GB test data')\n",
    "plt.legend(loc=\"lower right\")\n",
    "plt.savefig('Log_ROC')\n",
    "plt.figure()\n",
    "plt.show()"
   ]
  }
 ],
 "metadata": {
  "kernelspec": {
   "display_name": "Python 3",
   "language": "python",
   "name": "python3"
  },
  "language_info": {
   "codemirror_mode": {
    "name": "ipython",
    "version": 3
   },
   "file_extension": ".py",
   "mimetype": "text/x-python",
   "name": "python",
   "nbconvert_exporter": "python",
   "pygments_lexer": "ipython3",
   "version": "3.7.3"
  }
 },
 "nbformat": 4,
 "nbformat_minor": 2
}
