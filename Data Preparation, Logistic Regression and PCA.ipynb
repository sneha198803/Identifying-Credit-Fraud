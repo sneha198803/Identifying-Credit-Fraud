{
 "cells": [
  {
   "cell_type": "markdown",
   "metadata": {},
   "source": [
    "# import all the necessary libraries, set the display options as needed"
   ]
  },
  {
   "cell_type": "code",
   "execution_count": 1,
   "metadata": {},
   "outputs": [],
   "source": [
    "\n",
    "import os\n",
    "import pandas as pd\n",
    "import numpy as np\n",
    "import matplotlib.pyplot as plt\n",
    "from sklearn import preprocessing\n",
    "from sklearn.model_selection import train_test_split\n",
    "from imblearn.under_sampling import RandomUnderSampler\n",
    "from imblearn.over_sampling import RandomOverSampler\n",
    "from imblearn.combine import SMOTETomek\n",
    "from collections import Counter\n",
    "from sklearn import metrics\n",
    "from sklearn.metrics import classification_report\n",
    "from sklearn.metrics import roc_auc_score\n",
    "from sklearn.metrics import roc_curve\n",
    "\n",
    "from sklearn.model_selection import cross_val_score\n",
    "from sklearn.model_selection import StratifiedKFold\n",
    "from sklearn.metrics import f1_score\n",
    "from sklearn.metrics import recall_score\n",
    "from sklearn.metrics import precision_score\n",
    "\n",
    "\n",
    "from sklearn.linear_model import LogisticRegression\n",
    "\n",
    "pd.set_option(\"display.precision\", 3)\n",
    "pd.set_option(\"display.expand_frame_repr\", False)\n",
    "pd.set_option(\"display.max_rows\", 25)\n"
   ]
  },
  {
   "cell_type": "markdown",
   "metadata": {},
   "source": [
    "# Read the data from the csv file and check if its read correctly"
   ]
  },
  {
   "cell_type": "code",
   "execution_count": 2,
   "metadata": {},
   "outputs": [
    {
     "name": "stdout",
     "output_type": "stream",
     "text": [
      "The first 5 rows in the dataset are : \n",
      "    Time     V1     V2     V3     V4     V5     V6     V7     V8     V9  ...    V21    V22    V23    V24    V25    V26    V27    V28  Amount  Class\n",
      "0   0.0 -1.360 -0.073  2.536  1.378 -0.338  0.462  0.240  0.099  0.364  ... -0.018  0.278 -0.110  0.067  0.129 -0.189  0.134 -0.021  149.62      0\n",
      "1   0.0  1.192  0.266  0.166  0.448  0.060 -0.082 -0.079  0.085 -0.255  ... -0.226 -0.639  0.101 -0.340  0.167  0.126 -0.009  0.015    2.69      0\n",
      "2   1.0 -1.358 -1.340  1.773  0.380 -0.503  1.800  0.791  0.248 -1.515  ...  0.248  0.772  0.909 -0.689 -0.328 -0.139 -0.055 -0.060  378.66      0\n",
      "3   1.0 -0.966 -0.185  1.793 -0.863 -0.010  1.247  0.238  0.377 -1.387  ... -0.108  0.005 -0.190 -1.176  0.647 -0.222  0.063  0.061  123.50      0\n",
      "4   2.0 -1.158  0.878  1.549  0.403 -0.407  0.096  0.593 -0.271  0.818  ... -0.009  0.798 -0.137  0.141 -0.206  0.502  0.219  0.215   69.99      0\n",
      "\n",
      "[5 rows x 31 columns]\n",
      "\n",
      "\n",
      "The shape of the data is : (284807, 31)\n"
     ]
    }
   ],
   "source": [
    "os.chdir(r'C:\\Users\\tejan\\Downloads\\creditcardfraud')\n",
    "data = pd.read_csv(\"creditcard.csv\")\n",
    "\n",
    "print(\"The first 5 rows in the dataset are :\", \"\\n\", data.head())\n",
    "print(\"\\n\")\n",
    "print(\"The shape of the data is :\", str(data.shape))\n"
   ]
  },
  {
   "cell_type": "markdown",
   "metadata": {},
   "source": [
    "# Check for the missing values, abnormal values, etc"
   ]
  },
  {
   "cell_type": "code",
   "execution_count": 3,
   "metadata": {},
   "outputs": [
    {
     "name": "stdout",
     "output_type": "stream",
     "text": [
      "Basic summary statistics of the data : \n",
      "            count       mean        std      min        25%        50%         75%         max\n",
      "Time    284807.0  9.481e+04  47488.146    0.000  54201.500  84692.000  139320.500  172792.000\n",
      "V1      284807.0  3.920e-15      1.959  -56.408     -0.920      0.018       1.316       2.455\n",
      "V2      284807.0  5.688e-16      1.651  -72.716     -0.599      0.065       0.804      22.058\n",
      "V3      284807.0 -8.769e-15      1.516  -48.326     -0.890      0.180       1.027       9.383\n",
      "V4      284807.0  2.782e-15      1.416   -5.683     -0.849     -0.020       0.743      16.875\n",
      "V5      284807.0 -1.553e-15      1.380 -113.743     -0.692     -0.054       0.612      34.802\n",
      "V6      284807.0  2.011e-15      1.332  -26.161     -0.768     -0.274       0.399      73.302\n",
      "V7      284807.0 -1.694e-15      1.237  -43.557     -0.554      0.040       0.570     120.589\n",
      "V8      284807.0 -1.927e-16      1.194  -73.217     -0.209      0.022       0.327      20.007\n",
      "V9      284807.0 -3.137e-15      1.099  -13.434     -0.643     -0.051       0.597      15.595\n",
      "V10     284807.0  1.769e-15      1.089  -24.588     -0.535     -0.093       0.454      23.745\n",
      "V11     284807.0  9.170e-16      1.021   -4.797     -0.762     -0.033       0.740      12.019\n",
      "...          ...        ...        ...      ...        ...        ...         ...         ...\n",
      "V19     284807.0  9.050e-16      0.814   -7.214     -0.456      0.004       0.459       5.592\n",
      "V20     284807.0  5.086e-16      0.771  -54.498     -0.212     -0.062       0.133      39.421\n",
      "V21     284807.0  1.537e-16      0.735  -34.830     -0.228     -0.029       0.186      27.203\n",
      "V22     284807.0  7.960e-16      0.726  -10.933     -0.542      0.007       0.529      10.503\n",
      "V23     284807.0  5.368e-16      0.624  -44.808     -0.162     -0.011       0.148      22.528\n",
      "V24     284807.0  4.458e-15      0.606   -2.837     -0.355      0.041       0.440       4.585\n",
      "V25     284807.0  1.453e-15      0.521  -10.295     -0.317      0.017       0.351       7.520\n",
      "V26     284807.0  1.699e-15      0.482   -2.605     -0.327     -0.052       0.241       3.517\n",
      "V27     284807.0 -3.660e-16      0.404  -22.566     -0.071      0.001       0.091      31.612\n",
      "V28     284807.0 -1.206e-16      0.330  -15.430     -0.053      0.011       0.078      33.848\n",
      "Amount  284807.0  8.835e+01    250.120    0.000      5.600     22.000      77.165   25691.160\n",
      "Class   284807.0  1.727e-03      0.042    0.000      0.000      0.000       0.000       1.000\n",
      "\n",
      "[31 rows x 8 columns]\n"
     ]
    },
    {
     "data": {
      "text/plain": [
       "Time      0\n",
       "V1        0\n",
       "V2        0\n",
       "V3        0\n",
       "V4        0\n",
       "V5        0\n",
       "V6        0\n",
       "V7        0\n",
       "V8        0\n",
       "V9        0\n",
       "V10       0\n",
       "V11       0\n",
       "         ..\n",
       "V19       0\n",
       "V20       0\n",
       "V21       0\n",
       "V22       0\n",
       "V23       0\n",
       "V24       0\n",
       "V25       0\n",
       "V26       0\n",
       "V27       0\n",
       "V28       0\n",
       "Amount    0\n",
       "Class     0\n",
       "Length: 31, dtype: int64"
      ]
     },
     "execution_count": 3,
     "metadata": {},
     "output_type": "execute_result"
    }
   ],
   "source": [
    "print(\"Basic summary statistics of the data :\", \"\\n\", data.describe(include = 'all').transpose())\n",
    "data.isnull().sum()"
   ]
  },
  {
   "cell_type": "markdown",
   "metadata": {},
   "source": [
    "# Checking for target variable class imbalance"
   ]
  },
  {
   "cell_type": "code",
   "execution_count": 4,
   "metadata": {},
   "outputs": [
    {
     "name": "stdout",
     "output_type": "stream",
     "text": [
      "The class counts of the target variable are : \n",
      "    Class  Counts\n",
      "0      0  284315\n",
      "1      1     492\n"
     ]
    },
    {
     "data": {
      "image/png": "[encoded data removed]",
      "text/plain": [
       "<Figure size 432x288 with 1 Axes>"
      ]
     },
     "metadata": {
      "needs_background": "light"
     },
     "output_type": "display_data"
    }
   ],
   "source": [
    "class_counts = data.groupby(\"Class\").size().reset_index(name = \"Counts\")\n",
    "print(\"The class counts of the target variable are :\", \"\\n\", class_counts.head())\n",
    "\n",
    "plt.bar(class_counts['Class'], class_counts['Counts'], align='center')\n",
    "plt.xticks(class_counts['Class'])\n",
    "plt.ylabel('Frequency of target levels')\n",
    "plt.title('Target variable level imbalance - 0: No Fraud and 1: Fraud')\n",
    "plt.show()"
   ]
  },
  {
   "cell_type": "markdown",
   "metadata": {},
   "source": [
    "# We have to do a holdout sample for validation of the final model"
   ]
  },
  {
   "cell_type": "code",
   "execution_count": 3,
   "metadata": {},
   "outputs": [],
   "source": [
    "data_class0 = data[data.Class == 0]\n",
    "data_class1 = data[data.Class == 1]\n",
    "data_class0_train, data_class0_test = train_test_split(data_class0, test_size = 0.25,random_state = 12356) \n",
    "data_class1_train, data_class1_test = train_test_split(data_class1, test_size = 0.25,random_state = 12356) "
   ]
  },
  {
   "cell_type": "code",
   "execution_count": 4,
   "metadata": {},
   "outputs": [],
   "source": [
    "data_train = pd.concat([data_class0_train, data_class1_train], ignore_index = True)\n",
    "data_test = pd.concat([data_class0_test, data_class1_test], ignore_index = True)"
   ]
  },
  {
   "cell_type": "code",
   "execution_count": 5,
   "metadata": {},
   "outputs": [
    {
     "data": {
      "text/plain": [
       "Class\n",
       "0    213236\n",
       "1       369\n",
       "dtype: int64"
      ]
     },
     "execution_count": 5,
     "metadata": {},
     "output_type": "execute_result"
    }
   ],
   "source": [
    "data_train.groupby(\"Class\").size()"
   ]
  },
  {
   "cell_type": "code",
   "execution_count": 8,
   "metadata": {},
   "outputs": [
    {
     "data": {
      "text/html": [
       "<div>\n",
       "<style scoped>\n",
       "    .dataframe tbody tr th:only-of-type {\n",
       "        vertical-align: middle;\n",
       "    }\n",
       "\n",
       "    .dataframe tbody tr th {\n",
       "        vertical-align: top;\n",
       "    }\n",
       "\n",
       "    .dataframe thead th {\n",
       "        text-align: right;\n",
       "    }\n",
       "</style>\n",
       "<table border=\"1\" class=\"dataframe\">\n",
       "  <thead>\n",
       "    <tr style=\"text-align: right;\">\n",
       "      <th></th>\n",
       "      <th>Time</th>\n",
       "      <th>V1</th>\n",
       "      <th>V2</th>\n",
       "      <th>V3</th>\n",
       "      <th>V4</th>\n",
       "      <th>V5</th>\n",
       "      <th>V6</th>\n",
       "      <th>V7</th>\n",
       "      <th>V8</th>\n",
       "      <th>V9</th>\n",
       "      <th>...</th>\n",
       "      <th>V21</th>\n",
       "      <th>V22</th>\n",
       "      <th>V23</th>\n",
       "      <th>V24</th>\n",
       "      <th>V25</th>\n",
       "      <th>V26</th>\n",
       "      <th>V27</th>\n",
       "      <th>V28</th>\n",
       "      <th>Amount</th>\n",
       "      <th>Class</th>\n",
       "    </tr>\n",
       "  </thead>\n",
       "  <tbody>\n",
       "    <tr>\n",
       "      <th>0</th>\n",
       "      <td>69286.0</td>\n",
       "      <td>1.176</td>\n",
       "      <td>0.072</td>\n",
       "      <td>-0.737</td>\n",
       "      <td>1.582</td>\n",
       "      <td>2.151</td>\n",
       "      <td>4.121</td>\n",
       "      <td>-0.616</td>\n",
       "      <td>0.986</td>\n",
       "      <td>-0.325</td>\n",
       "      <td>...</td>\n",
       "      <td>-0.122</td>\n",
       "      <td>-0.355</td>\n",
       "      <td>-0.131</td>\n",
       "      <td>1.017</td>\n",
       "      <td>0.777</td>\n",
       "      <td>0.091</td>\n",
       "      <td>0.007</td>\n",
       "      <td>0.017</td>\n",
       "      <td>23.24</td>\n",
       "      <td>0</td>\n",
       "    </tr>\n",
       "    <tr>\n",
       "      <th>1</th>\n",
       "      <td>73938.0</td>\n",
       "      <td>-1.356</td>\n",
       "      <td>-0.120</td>\n",
       "      <td>-0.329</td>\n",
       "      <td>-1.971</td>\n",
       "      <td>1.160</td>\n",
       "      <td>-0.438</td>\n",
       "      <td>0.112</td>\n",
       "      <td>0.447</td>\n",
       "      <td>0.547</td>\n",
       "      <td>...</td>\n",
       "      <td>0.180</td>\n",
       "      <td>0.521</td>\n",
       "      <td>-0.589</td>\n",
       "      <td>-1.071</td>\n",
       "      <td>-0.141</td>\n",
       "      <td>-0.769</td>\n",
       "      <td>0.115</td>\n",
       "      <td>-0.150</td>\n",
       "      <td>13.99</td>\n",
       "      <td>0</td>\n",
       "    </tr>\n",
       "    <tr>\n",
       "      <th>2</th>\n",
       "      <td>162184.0</td>\n",
       "      <td>1.985</td>\n",
       "      <td>-0.382</td>\n",
       "      <td>-0.280</td>\n",
       "      <td>0.494</td>\n",
       "      <td>-0.721</td>\n",
       "      <td>-0.528</td>\n",
       "      <td>-0.575</td>\n",
       "      <td>-0.078</td>\n",
       "      <td>1.421</td>\n",
       "      <td>...</td>\n",
       "      <td>0.189</td>\n",
       "      <td>0.823</td>\n",
       "      <td>0.096</td>\n",
       "      <td>-0.074</td>\n",
       "      <td>-0.064</td>\n",
       "      <td>-0.207</td>\n",
       "      <td>0.044</td>\n",
       "      <td>-0.037</td>\n",
       "      <td>9.99</td>\n",
       "      <td>0</td>\n",
       "    </tr>\n",
       "    <tr>\n",
       "      <th>3</th>\n",
       "      <td>73341.0</td>\n",
       "      <td>1.095</td>\n",
       "      <td>0.080</td>\n",
       "      <td>0.305</td>\n",
       "      <td>1.027</td>\n",
       "      <td>0.009</td>\n",
       "      <td>0.243</td>\n",
       "      <td>-0.014</td>\n",
       "      <td>0.128</td>\n",
       "      <td>-0.015</td>\n",
       "      <td>...</td>\n",
       "      <td>-0.094</td>\n",
       "      <td>-0.203</td>\n",
       "      <td>-0.069</td>\n",
       "      <td>-0.316</td>\n",
       "      <td>0.531</td>\n",
       "      <td>-0.437</td>\n",
       "      <td>0.033</td>\n",
       "      <td>0.012</td>\n",
       "      <td>37.29</td>\n",
       "      <td>0</td>\n",
       "    </tr>\n",
       "    <tr>\n",
       "      <th>4</th>\n",
       "      <td>151521.0</td>\n",
       "      <td>0.158</td>\n",
       "      <td>0.147</td>\n",
       "      <td>0.311</td>\n",
       "      <td>-0.457</td>\n",
       "      <td>0.976</td>\n",
       "      <td>-0.583</td>\n",
       "      <td>0.840</td>\n",
       "      <td>-0.394</td>\n",
       "      <td>0.368</td>\n",
       "      <td>...</td>\n",
       "      <td>-0.272</td>\n",
       "      <td>-0.508</td>\n",
       "      <td>0.003</td>\n",
       "      <td>-0.524</td>\n",
       "      <td>-1.091</td>\n",
       "      <td>0.094</td>\n",
       "      <td>-0.365</td>\n",
       "      <td>-0.382</td>\n",
       "      <td>1.98</td>\n",
       "      <td>0</td>\n",
       "    </tr>\n",
       "  </tbody>\n",
       "</table>\n",
       "<p>5 rows × 31 columns</p>\n",
       "</div>"
      ],
      "text/plain": [
       "       Time     V1     V2     V3     V4     V5     V6     V7     V8     V9  ...    V21    V22    V23    V24    V25    V26    V27    V28  Amount  Class\n",
       "0   69286.0  1.176  0.072 -0.737  1.582  2.151  4.121 -0.616  0.986 -0.325  ... -0.122 -0.355 -0.131  1.017  0.777  0.091  0.007  0.017   23.24      0\n",
       "1   73938.0 -1.356 -0.120 -0.329 -1.971  1.160 -0.438  0.112  0.447  0.547  ...  0.180  0.521 -0.589 -1.071 -0.141 -0.769  0.115 -0.150   13.99      0\n",
       "2  162184.0  1.985 -0.382 -0.280  0.494 -0.721 -0.528 -0.575 -0.078  1.421  ...  0.189  0.823  0.096 -0.074 -0.064 -0.207  0.044 -0.037    9.99      0\n",
       "3   73341.0  1.095  0.080  0.305  1.027  0.009  0.243 -0.014  0.128 -0.015  ... -0.094 -0.203 -0.069 -0.316  0.531 -0.437  0.033  0.012   37.29      0\n",
       "4  151521.0  0.158  0.147  0.311 -0.457  0.976 -0.583  0.840 -0.394  0.368  ... -0.272 -0.508  0.003 -0.524 -1.091  0.094 -0.365 -0.382    1.98      0\n",
       "\n",
       "[5 rows x 31 columns]"
      ]
     },
     "execution_count": 8,
     "metadata": {},
     "output_type": "execute_result"
    }
   ],
   "source": [
    "data_test.head()"
   ]
  },
  {
   "cell_type": "markdown",
   "metadata": {},
   "source": [
    "# Removing the Time variable and standardizing the numeric variables, except target variable in the training data"
   ]
  },
  {
   "cell_type": "code",
   "execution_count": 6,
   "metadata": {},
   "outputs": [],
   "source": [
    "data.drop(['Time'], axis = 1, inplace = True)\n",
    "data_train.drop(['Time'], axis = 1, inplace = True)\n",
    "data_test.drop(['Time'], axis = 1, inplace = True)\n",
    "\n",
    "X_train = data_train.iloc[:, :-1].values\n",
    "y_train = data_train.iloc[:, -1].values\n",
    "X_test = data_test.iloc[:, :-1].values\n",
    "y_test = data_test.iloc[:, -1].values\n",
    "\n",
    "scaler = preprocessing.StandardScaler()\n",
    "X_train_standardized = scaler.fit_transform(X_train)\n",
    "X_test_standardized = scaler.fit_transform(X_test)"
   ]
  },
  {
   "cell_type": "markdown",
   "metadata": {},
   "source": [
    "# Build 3 separate datasets from training data-\n",
    "# Random Undersampling of training data, building a logit model, and validation on holdout data\n",
    "# Random Oversampling of training data, building a logit model, and validation on holdout data\n",
    "# SMOTETOMEK oversampling of training data, building a logit model, and validation on holdout data"
   ]
  },
  {
   "cell_type": "code",
   "execution_count": 7,
   "metadata": {},
   "outputs": [
    {
     "name": "stdout",
     "output_type": "stream",
     "text": [
      "Undersampled training dataset shape Counter({0: 369, 1: 369})\n",
      "Original training dataset shape Counter({0: 213236, 1: 369})\n",
      "Original testing dataset shape Counter({0: 71079, 1: 123})\n"
     ]
    }
   ],
   "source": [
    "rus = RandomUnderSampler(random_state=123)\n",
    "X_rus, y_rus = rus.fit_resample(X_train_standardized, y_train)\n",
    "print('Undersampled training dataset shape %s' % Counter(y_rus))\n",
    "print('Original training dataset shape %s' % Counter(y_train))\n",
    "print('Original testing dataset shape %s' % Counter(y_test))"
   ]
  },
  {
   "cell_type": "code",
   "execution_count": 8,
   "metadata": {},
   "outputs": [
    {
     "name": "stdout",
     "output_type": "stream",
     "text": [
      "Oversampled training dataset shape Counter({0: 213236, 1: 213236})\n",
      "Original training dataset shape Counter({0: 213236, 1: 369})\n",
      "Original testing dataset shape Counter({0: 71079, 1: 123})\n"
     ]
    }
   ],
   "source": [
    "ros = RandomOverSampler(sampling_strategy='minority', random_state=123)\n",
    "X_ros, y_ros = ros.fit_resample(X_train_standardized, y_train)\n",
    "print('Oversampled training dataset shape %s' % Counter(y_ros))\n",
    "print('Original training dataset shape %s' % Counter(y_train))\n",
    "print('Original testing dataset shape %s' % Counter(y_test))"
   ]
  },
  {
   "cell_type": "code",
   "execution_count": 9,
   "metadata": {},
   "outputs": [
    {
     "name": "stdout",
     "output_type": "stream",
     "text": [
      "SmoteTomek dataset shape Counter({0: 213236, 1: 213236})\n",
      "Original training dataset shape Counter({0: 213236, 1: 369})\n",
      "Original testing dataset shape Counter({0: 71079, 1: 123})\n"
     ]
    }
   ],
   "source": [
    "smt = SMOTETomek(random_state=123)\n",
    "X_smt, y_smt = smt.fit_resample(X_train_standardized, y_train)\n",
    "print('SmoteTomek dataset shape %s' % Counter(y_smt))\n",
    "print('Original training dataset shape %s' % Counter(y_train))\n",
    "print('Original testing dataset shape %s' % Counter(y_test))"
   ]
  },
  {
   "cell_type": "markdown",
   "metadata": {},
   "source": [
    "# Save the smotetomek upsampled training data and test data as csv files onto the machine"
   ]
  },
  {
   "cell_type": "code",
   "execution_count": 10,
   "metadata": {},
   "outputs": [],
   "source": [
    "X_cols = list(data.columns.values)\n",
    "X_cols.remove('Class')\n",
    "X_smt_df = pd.DataFrame(X_smt, columns = X_cols)\n",
    "X_smt_df.head()\n",
    "y_smt_df = pd.DataFrame(y_smt, columns = ['Class'])\n",
    "y_smt_df.head()\n",
    "Smote_train = pd.concat([X_smt_df, y_smt_df], axis = 1)\n",
    "Smote_train.to_csv('SMOTE_TRAIN.CSV')\n",
    "\n",
    "X_test_df = pd.DataFrame(X_test_standardized, columns = X_cols)\n",
    "X_test_df.head()\n",
    "y_test_df = pd.DataFrame(y_test, columns = ['Class'])\n",
    "y_test_df.head()\n",
    "test = pd.concat([X_test_df, y_test_df], axis = 1)\n",
    "test.to_csv('test.CSV')\n"
   ]
  },
  {
   "cell_type": "markdown",
   "metadata": {},
   "source": [
    "# 3 models on the 3 differently sampled datasets and validation them on the common test data"
   ]
  },
  {
   "cell_type": "markdown",
   "metadata": {},
   "source": [
    "# Model1- Undersampled data and validation on test data"
   ]
  },
  {
   "cell_type": "code",
   "execution_count": 11,
   "metadata": {},
   "outputs": [
    {
     "name": "stdout",
     "output_type": "stream",
     "text": [
      "The accuracy of the Logistic regression model on the Undersampled training data is : 0.9552845528455285\n",
      "The accuracy of the Logistic regression model on the test data is : 0.9532878289935676\n"
     ]
    }
   ],
   "source": [
    "clf_rus = LogisticRegression(solver =  'liblinear', penalty = 'l1', random_state=0).fit(X_rus, y_rus)\n",
    "PREDICTIONS_rus_train = clf_rus.predict(X_rus)\n",
    "PREDICTIONS_rus_test = clf_rus.predict(X_test_standardized)\n",
    "print(\"The accuracy of the Logistic regression model on the Undersampled training data is :\", clf_rus.score(X_rus, y_rus))\n",
    "print(\"The accuracy of the Logistic regression model on the test data is :\", clf_rus.score(X_test_standardized, y_test))"
   ]
  },
  {
   "cell_type": "code",
   "execution_count": 12,
   "metadata": {},
   "outputs": [
    {
     "name": "stdout",
     "output_type": "stream",
     "text": [
      "The confusion matrix of training data is : \n",
      " [[365   4]\n",
      " [ 29 340]]\n",
      "The confusion matrix of test data is : \n",
      " [[67761  3318]\n",
      " [    8   115]]\n"
     ]
    }
   ],
   "source": [
    "cm_rus_train = metrics.confusion_matrix(y_rus, PREDICTIONS_rus_train)\n",
    "print(\"The confusion matrix of training data is :\", \"\\n\", cm_rus_train)\n",
    "cm_rus_test = metrics.confusion_matrix(y_test, PREDICTIONS_rus_test)\n",
    "print(\"The confusion matrix of test data is :\", \"\\n\", cm_rus_test)"
   ]
  },
  {
   "cell_type": "code",
   "execution_count": 13,
   "metadata": {},
   "outputs": [
    {
     "name": "stdout",
     "output_type": "stream",
     "text": [
      "The classification report on training data is \n",
      "\n",
      "              precision    recall  f1-score   support\n",
      "\n",
      "           0       0.93      0.99      0.96       369\n",
      "           1       0.99      0.92      0.95       369\n",
      "\n",
      "    accuracy                           0.96       738\n",
      "   macro avg       0.96      0.96      0.96       738\n",
      "weighted avg       0.96      0.96      0.96       738\n",
      "\n",
      "The classification report on test data is \n",
      "\n",
      "              precision    recall  f1-score   support\n",
      "\n",
      "           0       1.00      0.95      0.98     71079\n",
      "           1       0.03      0.93      0.06       123\n",
      "\n",
      "    accuracy                           0.95     71202\n",
      "   macro avg       0.52      0.94      0.52     71202\n",
      "weighted avg       1.00      0.95      0.97     71202\n",
      "\n"
     ]
    }
   ],
   "source": [
    "print(\"The classification report on training data is \\n\")\n",
    "print(classification_report(y_rus, PREDICTIONS_rus_train))\n",
    "print(\"The classification report on test data is \\n\")\n",
    "print(classification_report(y_test, PREDICTIONS_rus_test))"
   ]
  },
  {
   "cell_type": "code",
   "execution_count": 14,
   "metadata": {},
   "outputs": [
    {
     "data": {
      "image/png": "[encoded data removed]",
      "text/plain": [
       "<Figure size 432x288 with 1 Axes>"
      ]
     },
     "metadata": {
      "needs_background": "light"
     },
     "output_type": "display_data"
    },
    {
     "data": {
      "text/plain": [
       "<Figure size 432x288 with 0 Axes>"
      ]
     },
     "metadata": {},
     "output_type": "display_data"
    }
   ],
   "source": [
    "logit_roc_auc = roc_auc_score(y_rus, clf_rus.predict(X_rus))\n",
    "fpr, tpr, thresholds = roc_curve(y_rus, clf_rus.predict_proba(X_rus)[:,1])\n",
    "plt.figure()\n",
    "plt.plot(fpr, tpr, label='Logistic Regression (area = %0.2f)' % logit_roc_auc)\n",
    "plt.plot([0, 1], [0, 1],'r--')\n",
    "plt.xlim([0.0, 1.0])\n",
    "plt.ylim([0.0, 1.05])\n",
    "plt.xlabel('False Positive Rate')\n",
    "plt.ylabel('True Positive Rate')\n",
    "plt.title('Receiver operating characteristic - Undersampled training data')\n",
    "plt.legend(loc=\"lower right\")\n",
    "plt.savefig('Log_ROC')\n",
    "plt.figure()\n",
    "plt.show()"
   ]
  },
  {
   "cell_type": "code",
   "execution_count": 15,
   "metadata": {},
   "outputs": [
    {
     "data": {
      "image/png": "[encoded data removed]",
      "text/plain": [
       "<Figure size 432x288 with 1 Axes>"
      ]
     },
     "metadata": {
      "needs_background": "light"
     },
     "output_type": "display_data"
    },
    {
     "data": {
      "text/plain": [
       "<Figure size 432x288 with 0 Axes>"
      ]
     },
     "metadata": {},
     "output_type": "display_data"
    }
   ],
   "source": [
    "logit_roc_auc = roc_auc_score(y_test, clf_rus.predict(X_test_standardized))\n",
    "fpr, tpr, thresholds = roc_curve(y_test, clf_rus.predict_proba(X_test_standardized)[:,1])\n",
    "plt.figure()\n",
    "plt.plot(fpr, tpr, label='Logistic Regression (area = %0.2f)' % logit_roc_auc)\n",
    "plt.plot([0, 1], [0, 1],'r--')\n",
    "plt.xlim([0.0, 1.0])\n",
    "plt.ylim([0.0, 1.05])\n",
    "plt.xlabel('False Positive Rate')\n",
    "plt.ylabel('True Positive Rate')\n",
    "plt.title('Receiver operating characteristic - test data')\n",
    "plt.legend(loc=\"lower right\")\n",
    "plt.savefig('Log_ROC')\n",
    "plt.figure()\n",
    "plt.show()"
   ]
  },
  {
   "cell_type": "markdown",
   "metadata": {},
   "source": [
    "# Model2- Oversampled data and validation on test data\n"
   ]
  },
  {
   "cell_type": "code",
   "execution_count": 16,
   "metadata": {},
   "outputs": [
    {
     "name": "stdout",
     "output_type": "stream",
     "text": [
      "The accuracy of the Logistic regression model on the Oversampled training data is : 0.9457643174698456\n",
      "The accuracy of the Logistic regression model on the test data is : 0.9774865874554085\n"
     ]
    },
    {
     "name": "stderr",
     "output_type": "stream",
     "text": [
      "C:\\Anaconda\\lib\\site-packages\\sklearn\\linear_model\\_sag.py:330: ConvergenceWarning: The max_iter was reached which means the coef_ did not converge\n",
      "  \"the coef_ did not converge\", ConvergenceWarning)\n"
     ]
    }
   ],
   "source": [
    "clf_ros = LogisticRegression(solver = 'saga', penalty = 'l2', random_state=0).fit(X_ros, y_ros)\n",
    "PREDICTIONS_ros_train = clf_ros.predict(X_ros)\n",
    "PREDICTIONS_ros_test = clf_ros.predict(X_test_standardized)\n",
    "print(\"The accuracy of the Logistic regression model on the Oversampled training data is :\", clf_ros.score(X_ros, y_ros))\n",
    "print(\"The accuracy of the Logistic regression model on the test data is :\", clf_ros.score(X_test_standardized, y_test))\n"
   ]
  },
  {
   "cell_type": "code",
   "execution_count": 17,
   "metadata": {},
   "outputs": [
    {
     "name": "stdout",
     "output_type": "stream",
     "text": [
      "The confusion matrix of training data is : \n",
      " [[208518   4718]\n",
      " [ 18412 194824]]\n",
      "The confusion matrix of test data is : \n",
      " [[69486  1593]\n",
      " [   10   113]]\n"
     ]
    }
   ],
   "source": [
    "cm_ros_train = metrics.confusion_matrix(y_ros, PREDICTIONS_ros_train)\n",
    "print(\"The confusion matrix of training data is :\", \"\\n\", cm_ros_train)\n",
    "cm_ros_test = metrics.confusion_matrix(y_test, PREDICTIONS_ros_test)\n",
    "print(\"The confusion matrix of test data is :\", \"\\n\", cm_ros_test)"
   ]
  },
  {
   "cell_type": "code",
   "execution_count": 18,
   "metadata": {},
   "outputs": [
    {
     "name": "stdout",
     "output_type": "stream",
     "text": [
      "The classification report on training data is \n",
      "\n",
      "              precision    recall  f1-score   support\n",
      "\n",
      "           0       0.92      0.98      0.95    213236\n",
      "           1       0.98      0.91      0.94    213236\n",
      "\n",
      "    accuracy                           0.95    426472\n",
      "   macro avg       0.95      0.95      0.95    426472\n",
      "weighted avg       0.95      0.95      0.95    426472\n",
      "\n",
      "The classification report on test data is \n",
      "\n",
      "              precision    recall  f1-score   support\n",
      "\n",
      "           0       1.00      0.98      0.99     71079\n",
      "           1       0.07      0.92      0.12       123\n",
      "\n",
      "    accuracy                           0.98     71202\n",
      "   macro avg       0.53      0.95      0.56     71202\n",
      "weighted avg       1.00      0.98      0.99     71202\n",
      "\n"
     ]
    }
   ],
   "source": [
    "print(\"The classification report on training data is \\n\")\n",
    "print(classification_report(y_ros, PREDICTIONS_ros_train))\n",
    "print(\"The classification report on test data is \\n\")\n",
    "print(classification_report(y_test, PREDICTIONS_ros_test))"
   ]
  },
  {
   "cell_type": "code",
   "execution_count": 19,
   "metadata": {},
   "outputs": [
    {
     "data": {
      "image/png": "[encoded data removed]",
      "text/plain": [
       "<Figure size 432x288 with 1 Axes>"
      ]
     },
     "metadata": {
      "needs_background": "light"
     },
     "output_type": "display_data"
    },
    {
     "data": {
      "text/plain": [
       "<Figure size 432x288 with 0 Axes>"
      ]
     },
     "metadata": {},
     "output_type": "display_data"
    }
   ],
   "source": [
    "logit_roc_auc = roc_auc_score(y_ros, clf_ros.predict(X_ros))\n",
    "fpr, tpr, thresholds = roc_curve(y_ros, clf_ros.predict_proba(X_ros)[:,1])\n",
    "plt.figure()\n",
    "plt.plot(fpr, tpr, label='Logistic Regression (area = %0.2f)' % logit_roc_auc)\n",
    "plt.plot([0, 1], [0, 1],'r--')\n",
    "plt.xlim([0.0, 1.0])\n",
    "plt.ylim([0.0, 1.05])\n",
    "plt.xlabel('False Positive Rate')\n",
    "plt.ylabel('True Positive Rate')\n",
    "plt.title('Receiver operating characteristic - Oversampled training data')\n",
    "plt.legend(loc=\"lower right\")\n",
    "plt.savefig('Log_ROC')\n",
    "plt.figure()\n",
    "plt.show()"
   ]
  },
  {
   "cell_type": "code",
   "execution_count": 20,
   "metadata": {},
   "outputs": [
    {
     "data": {
      "image/png": "[encoded data removed]",
      "text/plain": [
       "<Figure size 432x288 with 1 Axes>"
      ]
     },
     "metadata": {
      "needs_background": "light"
     },
     "output_type": "display_data"
    },
    {
     "data": {
      "text/plain": [
       "<Figure size 432x288 with 0 Axes>"
      ]
     },
     "metadata": {},
     "output_type": "display_data"
    }
   ],
   "source": [
    "logit_roc_auc = roc_auc_score(y_test, clf_ros.predict(X_test_standardized))\n",
    "fpr, tpr, thresholds = roc_curve(y_test, clf_ros.predict_proba(X_test_standardized)[:,1])\n",
    "plt.figure()\n",
    "plt.plot(fpr, tpr, label='Logistic Regression (area = %0.2f)' % logit_roc_auc)\n",
    "plt.plot([0, 1], [0, 1],'r--')\n",
    "plt.xlim([0.0, 1.0])\n",
    "plt.ylim([0.0, 1.05])\n",
    "plt.xlabel('False Positive Rate')\n",
    "plt.ylabel('True Positive Rate')\n",
    "plt.title('Receiver operating characteristic - test data')\n",
    "plt.legend(loc=\"lower right\")\n",
    "plt.savefig('Log_ROC')\n",
    "plt.figure()\n",
    "plt.show()\n"
   ]
  },
  {
   "cell_type": "markdown",
   "metadata": {},
   "source": [
    "# Model3- SMOTETOMEK Oversampled data and validation on test data\n"
   ]
  },
  {
   "cell_type": "code",
   "execution_count": 21,
   "metadata": {},
   "outputs": [
    {
     "name": "stdout",
     "output_type": "stream",
     "text": [
      "The accuracy of the Logistic regression model on the SMOTE TOMEK Oversampled training data is : 0.9418836406610516\n",
      "The accuracy of the Logistic regression model on the test data is : 0.9753939496081571\n"
     ]
    },
    {
     "name": "stderr",
     "output_type": "stream",
     "text": [
      "C:\\Anaconda\\lib\\site-packages\\sklearn\\linear_model\\_sag.py:330: ConvergenceWarning: The max_iter was reached which means the coef_ did not converge\n",
      "  \"the coef_ did not converge\", ConvergenceWarning)\n"
     ]
    }
   ],
   "source": [
    "clf_smt = LogisticRegression(solver = 'saga', penalty = 'elasticnet', l1_ratio = 0.5, random_state=0).fit(X_smt, y_smt)\n",
    "PREDICTIONS_smt_train = clf_smt.predict(X_smt)\n",
    "PREDICTIONS_smt_test = clf_smt.predict(X_test_standardized)\n",
    "print(\"The accuracy of the Logistic regression model on the SMOTE TOMEK Oversampled training data is :\", clf_smt.score(X_smt, y_smt))\n",
    "print(\"The accuracy of the Logistic regression model on the test data is :\", clf_smt.score(X_test_standardized, y_test))"
   ]
  },
  {
   "cell_type": "code",
   "execution_count": 22,
   "metadata": {},
   "outputs": [
    {
     "name": "stdout",
     "output_type": "stream",
     "text": [
      "The confusion matrix of training data is : \n",
      " [[208054   5182]\n",
      " [ 19603 193633]]\n",
      "The confusion matrix of test data is : \n",
      " [[69337  1742]\n",
      " [   10   113]]\n"
     ]
    }
   ],
   "source": [
    "cm_smt_train = metrics.confusion_matrix(y_smt, PREDICTIONS_smt_train)\n",
    "print(\"The confusion matrix of training data is :\", \"\\n\", cm_smt_train)\n",
    "cm_smt_test = metrics.confusion_matrix(y_test, PREDICTIONS_smt_test)\n",
    "print(\"The confusion matrix of test data is :\", \"\\n\", cm_smt_test)"
   ]
  },
  {
   "cell_type": "code",
   "execution_count": 23,
   "metadata": {},
   "outputs": [
    {
     "name": "stdout",
     "output_type": "stream",
     "text": [
      "The classification report on training data is \n",
      "\n",
      "              precision    recall  f1-score   support\n",
      "\n",
      "           0       0.91      0.98      0.94    213236\n",
      "           1       0.97      0.91      0.94    213236\n",
      "\n",
      "    accuracy                           0.94    426472\n",
      "   macro avg       0.94      0.94      0.94    426472\n",
      "weighted avg       0.94      0.94      0.94    426472\n",
      "\n",
      "The classification report on test data is \n",
      "\n",
      "              precision    recall  f1-score   support\n",
      "\n",
      "           0       1.00      0.98      0.99     71079\n",
      "           1       0.06      0.92      0.11       123\n",
      "\n",
      "    accuracy                           0.98     71202\n",
      "   macro avg       0.53      0.95      0.55     71202\n",
      "weighted avg       1.00      0.98      0.99     71202\n",
      "\n"
     ]
    }
   ],
   "source": [
    "print(\"The classification report on training data is \\n\")\n",
    "print(classification_report(y_smt, PREDICTIONS_smt_train))\n",
    "print(\"The classification report on test data is \\n\")\n",
    "print(classification_report(y_test, PREDICTIONS_smt_test))"
   ]
  },
  {
   "cell_type": "code",
   "execution_count": 24,
   "metadata": {},
   "outputs": [
    {
     "data": {
      "image/png": "[encoded data removed]",
      "text/plain": [
       "<Figure size 432x288 with 1 Axes>"
      ]
     },
     "metadata": {
      "needs_background": "light"
     },
     "output_type": "display_data"
    },
    {
     "data": {
      "text/plain": [
       "<Figure size 432x288 with 0 Axes>"
      ]
     },
     "metadata": {},
     "output_type": "display_data"
    }
   ],
   "source": [
    "logit_roc_auc = roc_auc_score(y_ros, clf_smt.predict(X_smt))\n",
    "fpr, tpr, thresholds = roc_curve(y_ros, clf_smt.predict_proba(X_smt)[:,1])\n",
    "plt.figure()\n",
    "plt.plot(fpr, tpr, label='Logistic Regression (area = %0.2f)' % logit_roc_auc)\n",
    "plt.plot([0, 1], [0, 1],'r--')\n",
    "plt.xlim([0.0, 1.0])\n",
    "plt.ylim([0.0, 1.05])\n",
    "plt.xlabel('False Positive Rate')\n",
    "plt.ylabel('True Positive Rate')\n",
    "plt.title('Receiver operating characteristic - SMOTETOMEK Oversampled training data')\n",
    "plt.legend(loc=\"lower right\")\n",
    "plt.savefig('Log_ROC')\n",
    "plt.figure()\n",
    "plt.show()"
   ]
  },
  {
   "cell_type": "code",
   "execution_count": 25,
   "metadata": {},
   "outputs": [
    {
     "data": {
      "image/png": "[encoded data removed]",
      "text/plain": [
       "<Figure size 432x288 with 1 Axes>"
      ]
     },
     "metadata": {
      "needs_background": "light"
     },
     "output_type": "display_data"
    },
    {
     "data": {
      "text/plain": [
       "<Figure size 432x288 with 0 Axes>"
      ]
     },
     "metadata": {},
     "output_type": "display_data"
    }
   ],
   "source": [
    "logit_roc_auc = roc_auc_score(y_test, clf_smt.predict(X_test_standardized))\n",
    "fpr, tpr, thresholds = roc_curve(y_test, clf_smt.predict_proba(X_test_standardized)[:,1])\n",
    "plt.figure()\n",
    "plt.plot(fpr, tpr, label='Logistic Regression (area = %0.2f)' % logit_roc_auc)\n",
    "plt.plot([0, 1], [0, 1],'r--')\n",
    "plt.xlim([0.0, 1.0])\n",
    "plt.ylim([0.0, 1.05])\n",
    "plt.xlabel('False Positive Rate')\n",
    "plt.ylabel('True Positive Rate')\n",
    "plt.title('Receiver operating characteristic - test data')\n",
    "plt.legend(loc=\"lower right\")\n",
    "plt.savefig('Log_ROC')\n",
    "plt.figure()\n",
    "plt.show()\n"
   ]
  },
  {
   "cell_type": "markdown",
   "metadata": {},
   "source": [
    "SMOTETOMEK oversampled data gave us the best results. So, I will use that data."
   ]
  },
  {
   "cell_type": "markdown",
   "metadata": {
    "scrolled": true
   },
   "source": [
    "# 10 fold CV on whole data without sampling - This is an incorrect approach, but just to see"
   ]
  },
  {
   "cell_type": "code",
   "execution_count": 26,
   "metadata": {},
   "outputs": [
    {
     "name": "stderr",
     "output_type": "stream",
     "text": [
      "C:\\Anaconda\\lib\\site-packages\\sklearn\\linear_model\\_sag.py:330: ConvergenceWarning: The max_iter was reached which means the coef_ did not converge\n",
      "  \"the coef_ did not converge\", ConvergenceWarning)\n"
     ]
    },
    {
     "name": "stdout",
     "output_type": "stream",
     "text": [
      "For fold 1:\n",
      "Accuracy: 0.9764053228468101\n",
      "f-score: 0.125\n",
      "recall: 0.9795918367346939\n",
      "precision: 0.06675938803894298\n"
     ]
    },
    {
     "name": "stderr",
     "output_type": "stream",
     "text": [
      "C:\\Anaconda\\lib\\site-packages\\sklearn\\linear_model\\_sag.py:330: ConvergenceWarning: The max_iter was reached which means the coef_ did not converge\n",
      "  \"the coef_ did not converge\", ConvergenceWarning)\n"
     ]
    },
    {
     "name": "stdout",
     "output_type": "stream",
     "text": [
      "For fold 2:\n",
      "Accuracy: 0.977599101155156\n",
      "f-score: 0.08857142857142856\n",
      "recall: 0.6326530612244898\n",
      "precision: 0.047619047619047616\n"
     ]
    },
    {
     "name": "stderr",
     "output_type": "stream",
     "text": [
      "C:\\Anaconda\\lib\\site-packages\\sklearn\\linear_model\\_sag.py:330: ConvergenceWarning: The max_iter was reached which means the coef_ did not converge\n",
      "  \"the coef_ did not converge\", ConvergenceWarning)\n"
     ]
    },
    {
     "name": "stdout",
     "output_type": "stream",
     "text": [
      "For fold 3:\n",
      "Accuracy: 0.9768266563674028\n",
      "f-score: 0.12928759894459102\n",
      "recall: 1.0\n",
      "precision: 0.0691114245416079\n"
     ]
    },
    {
     "name": "stderr",
     "output_type": "stream",
     "text": [
      "C:\\Anaconda\\lib\\site-packages\\sklearn\\linear_model\\_sag.py:330: ConvergenceWarning: The max_iter was reached which means the coef_ did not converge\n",
      "  \"the coef_ did not converge\", ConvergenceWarning)\n"
     ]
    },
    {
     "name": "stdout",
     "output_type": "stream",
     "text": [
      "For fold 4:\n",
      "Accuracy: 0.9869737719883431\n",
      "f-score: 0.17371937639198218\n",
      "recall: 0.7959183673469388\n",
      "precision: 0.0975\n"
     ]
    },
    {
     "name": "stderr",
     "output_type": "stream",
     "text": [
      "C:\\Anaconda\\lib\\site-packages\\sklearn\\linear_model\\_sag.py:330: ConvergenceWarning: The max_iter was reached which means the coef_ did not converge\n",
      "  \"the coef_ did not converge\", ConvergenceWarning)\n"
     ]
    },
    {
     "name": "stdout",
     "output_type": "stream",
     "text": [
      "For fold 5:\n",
      "Accuracy: 0.9826551034022681\n",
      "f-score: 0.1393728222996516\n",
      "recall: 0.8163265306122449\n",
      "precision: 0.0761904761904762\n"
     ]
    },
    {
     "name": "stderr",
     "output_type": "stream",
     "text": [
      "C:\\Anaconda\\lib\\site-packages\\sklearn\\linear_model\\_sag.py:330: ConvergenceWarning: The max_iter was reached which means the coef_ did not converge\n",
      "  \"the coef_ did not converge\", ConvergenceWarning)\n"
     ]
    },
    {
     "name": "stdout",
     "output_type": "stream",
     "text": [
      "For fold 6:\n",
      "Accuracy: 0.9529159790737685\n",
      "f-score: 0.0642009769713887\n",
      "recall: 0.92\n",
      "precision: 0.033261026753434564\n"
     ]
    },
    {
     "name": "stderr",
     "output_type": "stream",
     "text": [
      "C:\\Anaconda\\lib\\site-packages\\sklearn\\linear_model\\_sag.py:330: ConvergenceWarning: The max_iter was reached which means the coef_ did not converge\n",
      "  \"the coef_ did not converge\", ConvergenceWarning)\n"
     ]
    },
    {
     "name": "stdout",
     "output_type": "stream",
     "text": [
      "For fold 7:\n",
      "Accuracy: 0.9589199817422142\n",
      "f-score: 0.07582938388625592\n",
      "recall: 0.96\n",
      "precision: 0.039473684210526314\n"
     ]
    },
    {
     "name": "stderr",
     "output_type": "stream",
     "text": [
      "C:\\Anaconda\\lib\\site-packages\\sklearn\\linear_model\\_sag.py:330: ConvergenceWarning: The max_iter was reached which means the coef_ did not converge\n",
      "  \"the coef_ did not converge\", ConvergenceWarning)\n"
     ]
    },
    {
     "name": "stdout",
     "output_type": "stream",
     "text": [
      "For fold 8:\n",
      "Accuracy: 0.9706811797752809\n",
      "f-score: 0.09534127843986999\n",
      "recall: 0.8979591836734694\n",
      "precision: 0.05034324942791762\n"
     ]
    },
    {
     "name": "stderr",
     "output_type": "stream",
     "text": [
      "C:\\Anaconda\\lib\\site-packages\\sklearn\\linear_model\\_sag.py:330: ConvergenceWarning: The max_iter was reached which means the coef_ did not converge\n",
      "  \"the coef_ did not converge\", ConvergenceWarning)\n"
     ]
    },
    {
     "name": "stdout",
     "output_type": "stream",
     "text": [
      "For fold 9:\n",
      "Accuracy: 0.971875\n",
      "f-score: 0.10302351623740202\n",
      "recall: 0.9387755102040817\n",
      "precision: 0.054502369668246446\n",
      "For fold 10:\n",
      "Accuracy: 0.9777387640449439\n",
      "f-score: 0.11204481792717087\n",
      "recall: 0.8163265306122449\n",
      "precision: 0.06015037593984962\n"
     ]
    },
    {
     "name": "stderr",
     "output_type": "stream",
     "text": [
      "C:\\Anaconda\\lib\\site-packages\\sklearn\\linear_model\\_sag.py:330: ConvergenceWarning: The max_iter was reached which means the coef_ did not converge\n",
      "  \"the coef_ did not converge\", ConvergenceWarning)\n"
     ]
    }
   ],
   "source": [
    "from sklearn.model_selection import StratifiedKFold\n",
    "from sklearn.metrics import f1_score\n",
    "\n",
    "cv = StratifiedKFold(n_splits=10)\n",
    "X = data.iloc[:, :-1].values\n",
    "y = data.iloc[:, -1].values.reshape(-1,1)\n",
    "scaler = preprocessing.StandardScaler()\n",
    "X_standardized = scaler.fit_transform(X)\n",
    "\n",
    "for fold, (train_index, test_index) in enumerate(cv.split(X_standardized,y),1):\n",
    "    X_train = X_standardized[train_index]\n",
    "    y_train = y[train_index] \n",
    "    X_test = X_standardized[test_index]\n",
    "    y_test = y[test_index] \n",
    "    X_train_oversampled, y_train_oversampled = SMOTETomek(random_state = 1).fit_resample(X_train, y_train)\n",
    "    model = LogisticRegression(solver = 'saga', penalty = 'elasticnet', l1_ratio = 0.5, random_state=0)\n",
    "    model.fit(X_train_oversampled, y_train_oversampled )  \n",
    "    y_pred = model.predict(X_test)\n",
    "    print(f'For fold {fold}:')\n",
    "    print(f'Accuracy: {model.score(X_test, y_test)}')\n",
    "    print(f'f-score: {f1_score(y_test, y_pred)}')\n",
    "    print(f'recall: {recall_score(y_test, y_pred)}')\n",
    "    print(f'precision: {precision_score(y_test, y_pred)}')"
   ]
  },
  {
   "cell_type": "markdown",
   "metadata": {},
   "source": [
    "The precision is very low"
   ]
  },
  {
   "cell_type": "markdown",
   "metadata": {},
   "source": [
    "# The correct way of doing Cross Validation"
   ]
  },
  {
   "cell_type": "code",
   "execution_count": null,
   "metadata": {},
   "outputs": [],
   "source": [
    "#initializing the validator\n",
    "kf = StratifiedKFold(n_splits=10)\n",
    "\n",
    "X = data.iloc[:, :-1].values\n",
    "y = data.iloc[:, -1].values.reshape(-1,1)\n",
    "\n",
    "scaler = preprocessing.StandardScaler()\n",
    "X_standardized = scaler.fit_transform(X)\n",
    "\n",
    "def score_model(cv=None):\n",
    "    \"\"\"\n",
    "    Creates folds manually, and upsamples within each fold.\n",
    "    Returns an array of validation (recall) scores\n",
    "    \"\"\"\n",
    "    if cv is None:\n",
    "        cv = KFold(n_splits=10, shuffle = False)\n",
    "\n",
    "    smoter = SMOTETomek(random_state=1)\n",
    "    \n",
    "    recalllscore = []\n",
    "    precisionnscore = []\n",
    "    accuracyy = []\n",
    "    f1scoree = []\n",
    "\n",
    "    for train_fold_index, val_fold_index in cv.split(X_standardized, y):\n",
    "        # Get the training data\n",
    "        X_train_fold, y_train_fold = X_standardized[train_fold_index], y[train_fold_index]\n",
    "        # Get the validation data\n",
    "        X_val_fold, y_val_fold = X_standardized[val_fold_index], y[val_fold_index]\n",
    "\n",
    "        # Upsample only the data in the training section\n",
    "        X_train_fold_upsample, y_train_fold_upsample = smoter.fit_resample(X_train_fold, y_train_fold)\n",
    "        # Fit the model on the upsampled training data\n",
    "        model_obj = LogisticRegression(random_state = 0).fit(X_train_fold_upsample, y_train_fold_upsample)\n",
    "        # Score the model on the (non-upsampled) validation data\n",
    "        recallscore = recall_score(y_val_fold, model_obj.predict(X_val_fold))\n",
    "        precisionscore = precision_score(y_val_fold, model_obj.predict(X_val_fold))\n",
    "        accuracy = model_obj.score(X_val_fold, y_val_fold )\n",
    "        f1score = f1_score(y_val_fold, model_obj.predict(X_val_fold))\n",
    "        accuracyy.append(accuracy)\n",
    "        f1scoree.append(f1score)\n",
    "        recalllscore.append(recallscore)\n",
    "        precisionnscore.append(precisionscore)\n",
    "    return np.array(accuracyy), np.array(f1scoree), np.array(recalllscore), np.array(precisionnscore) \n",
    "\n",
    "# Example of the model in action\n",
    "score_model(cv=kf)"
   ]
  },
  {
   "cell_type": "markdown",
   "metadata": {},
   "source": [
    "Logistic Regression to see important variables"
   ]
  },
  {
   "cell_type": "code",
   "execution_count": 6,
   "metadata": {},
   "outputs": [],
   "source": [
    "import statsmodels.formula.api as smf\n"
   ]
  },
  {
   "cell_type": "code",
   "execution_count": 4,
   "metadata": {},
   "outputs": [
    {
     "name": "stdout",
     "output_type": "stream",
     "text": [
      "The first 5 rows in the dataset are : \n",
      "       V1     V2     V3     V4     V5     V6     V7     V8     V9    V10  ...    V21    V22    V23    V24    V25    V26    V27    V28  Amount  Class\n",
      "0  0.011  0.672 -0.939 -0.346  0.737 -0.194  0.536  0.250 -0.456 -0.962  ...  0.451  1.243 -0.406 -2.384 -0.307 -0.188 -0.038  0.056  -0.201      0\n",
      "1 -0.172  0.668  0.842  0.047 -0.018 -0.745  0.545 -0.034 -0.273 -0.454  ... -0.371 -1.020 -0.018  0.516 -0.347  0.155  0.595  0.299  -0.346      0\n",
      "2 -0.127  0.499  0.125 -0.508  0.153 -0.617  0.617  0.069  0.177  0.106  ... -0.344 -0.844  0.179 -0.081 -1.081  0.275  0.842  0.438  -0.320      0\n",
      "3 -0.020  0.353 -0.098 -0.417  0.744 -0.047  0.636 -0.005 -0.013 -0.327  ... -0.251 -0.699 -0.011 -2.006 -0.702 -1.115 -0.090  0.136  -0.316      0\n",
      "4 -2.471  2.030 -2.061 -0.159 -1.545 -0.936 -1.129  1.885  0.135  0.184  ...  0.246 -0.416  0.829 -0.030 -1.701  0.060 -6.562 -1.719  -0.235      0\n",
      "\n",
      "[5 rows x 30 columns]\n",
      "\n",
      "\n",
      "The shape of the data is : (426472, 30)\n",
      "The shape of the data is : (71202, 30)\n"
     ]
    }
   ],
   "source": [
    "\n",
    "data_train = pd.read_csv(\"SMOTE_TRAIN.csv\")\n",
    "data_test = pd.read_csv(\"test.csv\")\n",
    "print(\"The first 5 rows in the dataset are :\", \"\\n\", data_train.head())\n",
    "print(\"\\n\")\n",
    "print(\"The shape of the data is :\", str(data_train.shape))\n",
    "print(\"The shape of the data is :\", str(data_test.shape))\n"
   ]
  },
  {
   "cell_type": "code",
   "execution_count": 5,
   "metadata": {},
   "outputs": [
    {
     "name": "stdout",
     "output_type": "stream",
     "text": [
      "(497674, 30)\n"
     ]
    }
   ],
   "source": [
    "data = pd.concat([data_train, data_test], ignore_index = True)\n",
    "print(data.shape)"
   ]
  },
  {
   "cell_type": "code",
   "execution_count": 47,
   "metadata": {},
   "outputs": [],
   "source": [
    "X = data_train.iloc[:,:-1].values\n",
    "y = data_train.iloc[:,-1].values.reshape(-1)\n",
    "X_test = data_test.iloc[:,:-1].values\n",
    "y_test = data_test.iloc[:,-1].values.reshape(-1)"
   ]
  },
  {
   "cell_type": "code",
   "execution_count": 18,
   "metadata": {},
   "outputs": [
    {
     "name": "stdout",
     "output_type": "stream",
     "text": [
      "Optimization terminated successfully.\n",
      "         Current function value: 0.139756\n",
      "         Iterations 14\n"
     ]
    }
   ],
   "source": [
    "\n",
    "logreg1 = smf.logit('y ~ X', data).fit()"
   ]
  },
  {
   "cell_type": "code",
   "execution_count": 19,
   "metadata": {},
   "outputs": [
    {
     "data": {
      "text/html": [
       "<table class=\"simpletable\">\n",
       "<caption>Logit Regression Results</caption>\n",
       "<tr>\n",
       "  <th>Dep. Variable:</th>           <td>y</td>        <th>  No. Observations:  </th>   <td>497674</td>   \n",
       "</tr>\n",
       "<tr>\n",
       "  <th>Model:</th>                 <td>Logit</td>      <th>  Df Residuals:      </th>   <td>497644</td>   \n",
       "</tr>\n",
       "<tr>\n",
       "  <th>Method:</th>                 <td>MLE</td>       <th>  Df Model:          </th>   <td>    29</td>   \n",
       "</tr>\n",
       "<tr>\n",
       "  <th>Date:</th>            <td>Thu, 19 Mar 2020</td> <th>  Pseudo R-squ.:     </th>   <td>0.7954</td>   \n",
       "</tr>\n",
       "<tr>\n",
       "  <th>Time:</th>                <td>13:59:39</td>     <th>  Log-Likelihood:    </th>  <td> -69553.</td>  \n",
       "</tr>\n",
       "<tr>\n",
       "  <th>converged:</th>             <td>True</td>       <th>  LL-Null:           </th> <td>-3.3989e+05</td>\n",
       "</tr>\n",
       "<tr>\n",
       "  <th>Covariance Type:</th>     <td>nonrobust</td>    <th>  LLR p-value:       </th>   <td> 0.000</td>   \n",
       "</tr>\n",
       "</table>\n",
       "<table class=\"simpletable\">\n",
       "<tr>\n",
       "      <td></td>         <th>coef</th>     <th>std err</th>      <th>z</th>      <th>P>|z|</th>  <th>[0.025</th>    <th>0.975]</th>  \n",
       "</tr>\n",
       "<tr>\n",
       "  <th>Intercept</th> <td>   -3.5407</td> <td>    0.013</td> <td> -262.565</td> <td> 0.000</td> <td>   -3.567</td> <td>   -3.514</td>\n",
       "</tr>\n",
       "<tr>\n",
       "  <th>X[0]</th>      <td>    1.1721</td> <td>    0.034</td> <td>   34.174</td> <td> 0.000</td> <td>    1.105</td> <td>    1.239</td>\n",
       "</tr>\n",
       "<tr>\n",
       "  <th>X[1]</th>      <td>    0.8051</td> <td>    0.052</td> <td>   15.460</td> <td> 0.000</td> <td>    0.703</td> <td>    0.907</td>\n",
       "</tr>\n",
       "<tr>\n",
       "  <th>X[2]</th>      <td>    0.5558</td> <td>    0.021</td> <td>   26.097</td> <td> 0.000</td> <td>    0.514</td> <td>    0.598</td>\n",
       "</tr>\n",
       "<tr>\n",
       "  <th>X[3]</th>      <td>    1.0491</td> <td>    0.013</td> <td>   79.842</td> <td> 0.000</td> <td>    1.023</td> <td>    1.075</td>\n",
       "</tr>\n",
       "<tr>\n",
       "  <th>X[4]</th>      <td>    0.9185</td> <td>    0.031</td> <td>   29.508</td> <td> 0.000</td> <td>    0.858</td> <td>    0.980</td>\n",
       "</tr>\n",
       "<tr>\n",
       "  <th>X[5]</th>      <td>   -0.6431</td> <td>    0.019</td> <td>  -33.629</td> <td> 0.000</td> <td>   -0.681</td> <td>   -0.606</td>\n",
       "</tr>\n",
       "<tr>\n",
       "  <th>X[6]</th>      <td>   -0.5481</td> <td>    0.034</td> <td>  -15.992</td> <td> 0.000</td> <td>   -0.615</td> <td>   -0.481</td>\n",
       "</tr>\n",
       "<tr>\n",
       "  <th>X[7]</th>      <td>   -0.4618</td> <td>    0.012</td> <td>  -38.875</td> <td> 0.000</td> <td>   -0.485</td> <td>   -0.439</td>\n",
       "</tr>\n",
       "<tr>\n",
       "  <th>X[8]</th>      <td>   -0.3198</td> <td>    0.013</td> <td>  -25.012</td> <td> 0.000</td> <td>   -0.345</td> <td>   -0.295</td>\n",
       "</tr>\n",
       "<tr>\n",
       "  <th>X[9]</th>      <td>   -0.9167</td> <td>    0.017</td> <td>  -52.417</td> <td> 0.000</td> <td>   -0.951</td> <td>   -0.882</td>\n",
       "</tr>\n",
       "<tr>\n",
       "  <th>X[10]</th>     <td>    0.6320</td> <td>    0.010</td> <td>   60.557</td> <td> 0.000</td> <td>    0.612</td> <td>    0.652</td>\n",
       "</tr>\n",
       "<tr>\n",
       "  <th>X[11]</th>     <td>   -0.9815</td> <td>    0.015</td> <td>  -65.145</td> <td> 0.000</td> <td>   -1.011</td> <td>   -0.952</td>\n",
       "</tr>\n",
       "<tr>\n",
       "  <th>X[12]</th>     <td>   -0.2843</td> <td>    0.008</td> <td>  -37.186</td> <td> 0.000</td> <td>   -0.299</td> <td>   -0.269</td>\n",
       "</tr>\n",
       "<tr>\n",
       "  <th>X[13]</th>     <td>   -1.3755</td> <td>    0.016</td> <td>  -83.407</td> <td> 0.000</td> <td>   -1.408</td> <td>   -1.343</td>\n",
       "</tr>\n",
       "<tr>\n",
       "  <th>X[14]</th>     <td>    0.0677</td> <td>    0.008</td> <td>    8.957</td> <td> 0.000</td> <td>    0.053</td> <td>    0.083</td>\n",
       "</tr>\n",
       "<tr>\n",
       "  <th>X[15]</th>     <td>   -0.5007</td> <td>    0.014</td> <td>  -35.331</td> <td> 0.000</td> <td>   -0.529</td> <td>   -0.473</td>\n",
       "</tr>\n",
       "<tr>\n",
       "  <th>X[16]</th>     <td>   -0.7552</td> <td>    0.018</td> <td>  -41.878</td> <td> 0.000</td> <td>   -0.791</td> <td>   -0.720</td>\n",
       "</tr>\n",
       "<tr>\n",
       "  <th>X[17]</th>     <td>   -0.2785</td> <td>    0.011</td> <td>  -24.752</td> <td> 0.000</td> <td>   -0.301</td> <td>   -0.256</td>\n",
       "</tr>\n",
       "<tr>\n",
       "  <th>X[18]</th>     <td>    0.2185</td> <td>    0.010</td> <td>   22.751</td> <td> 0.000</td> <td>    0.200</td> <td>    0.237</td>\n",
       "</tr>\n",
       "<tr>\n",
       "  <th>X[19]</th>     <td>   -0.4849</td> <td>    0.021</td> <td>  -22.723</td> <td> 0.000</td> <td>   -0.527</td> <td>   -0.443</td>\n",
       "</tr>\n",
       "<tr>\n",
       "  <th>X[20]</th>     <td>   -0.0505</td> <td>    0.009</td> <td>   -5.392</td> <td> 0.000</td> <td>   -0.069</td> <td>   -0.032</td>\n",
       "</tr>\n",
       "<tr>\n",
       "  <th>X[21]</th>     <td>    0.3262</td> <td>    0.010</td> <td>   31.178</td> <td> 0.000</td> <td>    0.306</td> <td>    0.347</td>\n",
       "</tr>\n",
       "<tr>\n",
       "  <th>X[22]</th>     <td>    0.2908</td> <td>    0.017</td> <td>   17.264</td> <td> 0.000</td> <td>    0.258</td> <td>    0.324</td>\n",
       "</tr>\n",
       "<tr>\n",
       "  <th>X[23]</th>     <td>    0.0503</td> <td>    0.009</td> <td>    5.650</td> <td> 0.000</td> <td>    0.033</td> <td>    0.068</td>\n",
       "</tr>\n",
       "<tr>\n",
       "  <th>X[24]</th>     <td>    0.0395</td> <td>    0.009</td> <td>    4.421</td> <td> 0.000</td> <td>    0.022</td> <td>    0.057</td>\n",
       "</tr>\n",
       "<tr>\n",
       "  <th>X[25]</th>     <td>   -0.1949</td> <td>    0.009</td> <td>  -22.332</td> <td> 0.000</td> <td>   -0.212</td> <td>   -0.178</td>\n",
       "</tr>\n",
       "<tr>\n",
       "  <th>X[26]</th>     <td>    0.0230</td> <td>    0.011</td> <td>    2.139</td> <td> 0.032</td> <td>    0.002</td> <td>    0.044</td>\n",
       "</tr>\n",
       "<tr>\n",
       "  <th>X[27]</th>     <td>    0.2144</td> <td>    0.012</td> <td>   18.422</td> <td> 0.000</td> <td>    0.192</td> <td>    0.237</td>\n",
       "</tr>\n",
       "<tr>\n",
       "  <th>X[28]</th>     <td>    1.7269</td> <td>    0.076</td> <td>   22.800</td> <td> 0.000</td> <td>    1.578</td> <td>    1.875</td>\n",
       "</tr>\n",
       "</table><br/><br/>Possibly complete quasi-separation: A fraction 0.36 of observations can be<br/>perfectly predicted. This might indicate that there is complete<br/>quasi-separation. In this case some parameters will not be identified."
      ],
      "text/plain": [
       "<class 'statsmodels.iolib.summary.Summary'>\n",
       "\"\"\"\n",
       "                           Logit Regression Results                           \n",
       "==============================================================================\n",
       "Dep. Variable:                      y   No. Observations:               497674\n",
       "Model:                          Logit   Df Residuals:                   497644\n",
       "Method:                           MLE   Df Model:                           29\n",
       "Date:                Thu, 19 Mar 2020   Pseudo R-squ.:                  0.7954\n",
       "Time:                        13:59:39   Log-Likelihood:                -69553.\n",
       "converged:                       True   LL-Null:                   -3.3989e+05\n",
       "Covariance Type:            nonrobust   LLR p-value:                     0.000\n",
       "==============================================================================\n",
       "                 coef    std err          z      P>|z|      [0.025      0.975]\n",
       "------------------------------------------------------------------------------\n",
       "Intercept     -3.5407      0.013   -262.565      0.000      -3.567      -3.514\n",
       "X[0]           1.1721      0.034     34.174      0.000       1.105       1.239\n",
       "X[1]           0.8051      0.052     15.460      0.000       0.703       0.907\n",
       "X[2]           0.5558      0.021     26.097      0.000       0.514       0.598\n",
       "X[3]           1.0491      0.013     79.842      0.000       1.023       1.075\n",
       "X[4]           0.9185      0.031     29.508      0.000       0.858       0.980\n",
       "X[5]          -0.6431      0.019    -33.629      0.000      -0.681      -0.606\n",
       "X[6]          -0.5481      0.034    -15.992      0.000      -0.615      -0.481\n",
       "X[7]          -0.4618      0.012    -38.875      0.000      -0.485      -0.439\n",
       "X[8]          -0.3198      0.013    -25.012      0.000      -0.345      -0.295\n",
       "X[9]          -0.9167      0.017    -52.417      0.000      -0.951      -0.882\n",
       "X[10]          0.6320      0.010     60.557      0.000       0.612       0.652\n",
       "X[11]         -0.9815      0.015    -65.145      0.000      -1.011      -0.952\n",
       "X[12]         -0.2843      0.008    -37.186      0.000      -0.299      -0.269\n",
       "X[13]         -1.3755      0.016    -83.407      0.000      -1.408      -1.343\n",
       "X[14]          0.0677      0.008      8.957      0.000       0.053       0.083\n",
       "X[15]         -0.5007      0.014    -35.331      0.000      -0.529      -0.473\n",
       "X[16]         -0.7552      0.018    -41.878      0.000      -0.791      -0.720\n",
       "X[17]         -0.2785      0.011    -24.752      0.000      -0.301      -0.256\n",
       "X[18]          0.2185      0.010     22.751      0.000       0.200       0.237\n",
       "X[19]         -0.4849      0.021    -22.723      0.000      -0.527      -0.443\n",
       "X[20]         -0.0505      0.009     -5.392      0.000      -0.069      -0.032\n",
       "X[21]          0.3262      0.010     31.178      0.000       0.306       0.347\n",
       "X[22]          0.2908      0.017     17.264      0.000       0.258       0.324\n",
       "X[23]          0.0503      0.009      5.650      0.000       0.033       0.068\n",
       "X[24]          0.0395      0.009      4.421      0.000       0.022       0.057\n",
       "X[25]         -0.1949      0.009    -22.332      0.000      -0.212      -0.178\n",
       "X[26]          0.0230      0.011      2.139      0.032       0.002       0.044\n",
       "X[27]          0.2144      0.012     18.422      0.000       0.192       0.237\n",
       "X[28]          1.7269      0.076     22.800      0.000       1.578       1.875\n",
       "==============================================================================\n",
       "\n",
       "Possibly complete quasi-separation: A fraction 0.36 of observations can be\n",
       "perfectly predicted. This might indicate that there is complete\n",
       "quasi-separation. In this case some parameters will not be identified.\n",
       "\"\"\""
      ]
     },
     "execution_count": 19,
     "metadata": {},
     "output_type": "execute_result"
    }
   ],
   "source": [
    "logreg1.summary()"
   ]
  },
  {
   "cell_type": "code",
   "execution_count": 20,
   "metadata": {},
   "outputs": [
    {
     "data": {
      "text/plain": [
       "array([[279238.,   5077.],\n",
       "       [ 21275., 192084.]])"
      ]
     },
     "execution_count": 20,
     "metadata": {},
     "output_type": "execute_result"
    }
   ],
   "source": [
    "logreg1.pred_table()"
   ]
  },
  {
   "cell_type": "code",
   "execution_count": 27,
   "metadata": {},
   "outputs": [
    {
     "name": "stdout",
     "output_type": "stream",
     "text": [
      "The accuracy of the Logistic regression model on the SMOTE TOMEK Oversampled training data is : 0.9418836406610516\n",
      "The accuracy of the Logistic regression model on the test data is : 0.9753939496081571\n"
     ]
    },
    {
     "name": "stderr",
     "output_type": "stream",
     "text": [
      "C:\\Anaconda\\lib\\site-packages\\sklearn\\linear_model\\_sag.py:330: ConvergenceWarning: The max_iter was reached which means the coef_ did not converge\n",
      "  \"the coef_ did not converge\", ConvergenceWarning)\n"
     ]
    }
   ],
   "source": [
    "clf_smt = LogisticRegression(solver = 'saga', penalty = 'elasticnet', l1_ratio = 0.5, random_state=0).fit(X, y)\n",
    "PREDICTIONS_smt_train = clf_smt.predict(X)\n",
    "PREDICTIONS_smt_test = clf_smt.predict(X_test)\n",
    "print(\"The accuracy of the Logistic regression model on the SMOTE TOMEK Oversampled training data is :\", clf_smt.score(X, y))\n",
    "print(\"The accuracy of the Logistic regression model on the test data is :\", clf_smt.score(X_test, y_test))"
   ]
  },
  {
   "cell_type": "markdown",
   "metadata": {},
   "source": [
    "Creating a dataset of the most important variables"
   ]
  },
  {
   "cell_type": "code",
   "execution_count": 39,
   "metadata": {},
   "outputs": [],
   "source": [
    "clf_smt.coef_\n",
    "columns = list(data_train.columns.values)\n",
    "columns.remove('Class')\n",
    "coef_df = pd.DataFrame(clf_smt.coef_, columns = columns)"
   ]
  },
  {
   "cell_type": "code",
   "execution_count": 43,
   "metadata": {},
   "outputs": [
    {
     "data": {
      "text/html": [
       "<div>\n",
       "<style scoped>\n",
       "    .dataframe tbody tr th:only-of-type {\n",
       "        vertical-align: middle;\n",
       "    }\n",
       "\n",
       "    .dataframe tbody tr th {\n",
       "        vertical-align: top;\n",
       "    }\n",
       "\n",
       "    .dataframe thead th {\n",
       "        text-align: right;\n",
       "    }\n",
       "</style>\n",
       "<table border=\"1\" class=\"dataframe\">\n",
       "  <thead>\n",
       "    <tr style=\"text-align: right;\">\n",
       "      <th></th>\n",
       "      <th>0</th>\n",
       "    </tr>\n",
       "  </thead>\n",
       "  <tbody>\n",
       "    <tr>\n",
       "      <th>V1</th>\n",
       "      <td>0.851</td>\n",
       "    </tr>\n",
       "    <tr>\n",
       "      <th>V2</th>\n",
       "      <td>0.122</td>\n",
       "    </tr>\n",
       "    <tr>\n",
       "      <th>V3</th>\n",
       "      <td>0.323</td>\n",
       "    </tr>\n",
       "    <tr>\n",
       "      <th>V4</th>\n",
       "      <td>1.196</td>\n",
       "    </tr>\n",
       "    <tr>\n",
       "      <th>V5</th>\n",
       "      <td>0.566</td>\n",
       "    </tr>\n",
       "    <tr>\n",
       "      <th>V6</th>\n",
       "      <td>-0.450</td>\n",
       "    </tr>\n",
       "    <tr>\n",
       "      <th>V7</th>\n",
       "      <td>-0.111</td>\n",
       "    </tr>\n",
       "    <tr>\n",
       "      <th>V8</th>\n",
       "      <td>-0.599</td>\n",
       "    </tr>\n",
       "    <tr>\n",
       "      <th>V9</th>\n",
       "      <td>-0.368</td>\n",
       "    </tr>\n",
       "    <tr>\n",
       "      <th>V10</th>\n",
       "      <td>-1.015</td>\n",
       "    </tr>\n",
       "    <tr>\n",
       "      <th>V11</th>\n",
       "      <td>0.648</td>\n",
       "    </tr>\n",
       "    <tr>\n",
       "      <th>V12</th>\n",
       "      <td>-0.986</td>\n",
       "    </tr>\n",
       "    <tr>\n",
       "      <th>...</th>\n",
       "      <td>...</td>\n",
       "    </tr>\n",
       "    <tr>\n",
       "      <th>V18</th>\n",
       "      <td>-0.232</td>\n",
       "    </tr>\n",
       "    <tr>\n",
       "      <th>V19</th>\n",
       "      <td>0.160</td>\n",
       "    </tr>\n",
       "    <tr>\n",
       "      <th>V20</th>\n",
       "      <td>-0.235</td>\n",
       "    </tr>\n",
       "    <tr>\n",
       "      <th>V21</th>\n",
       "      <td>0.002</td>\n",
       "    </tr>\n",
       "    <tr>\n",
       "      <th>V22</th>\n",
       "      <td>0.250</td>\n",
       "    </tr>\n",
       "    <tr>\n",
       "      <th>V23</th>\n",
       "      <td>0.086</td>\n",
       "    </tr>\n",
       "    <tr>\n",
       "      <th>V24</th>\n",
       "      <td>0.053</td>\n",
       "    </tr>\n",
       "    <tr>\n",
       "      <th>V25</th>\n",
       "      <td>-0.025</td>\n",
       "    </tr>\n",
       "    <tr>\n",
       "      <th>V26</th>\n",
       "      <td>-0.204</td>\n",
       "    </tr>\n",
       "    <tr>\n",
       "      <th>V27</th>\n",
       "      <td>0.097</td>\n",
       "    </tr>\n",
       "    <tr>\n",
       "      <th>V28</th>\n",
       "      <td>0.159</td>\n",
       "    </tr>\n",
       "    <tr>\n",
       "      <th>Amount</th>\n",
       "      <td>0.781</td>\n",
       "    </tr>\n",
       "  </tbody>\n",
       "</table>\n",
       "<p>29 rows × 1 columns</p>\n",
       "</div>"
      ],
      "text/plain": [
       "            0\n",
       "V1      0.851\n",
       "V2      0.122\n",
       "V3      0.323\n",
       "V4      1.196\n",
       "V5      0.566\n",
       "V6     -0.450\n",
       "V7     -0.111\n",
       "V8     -0.599\n",
       "V9     -0.368\n",
       "V10    -1.015\n",
       "V11     0.648\n",
       "V12    -0.986\n",
       "...       ...\n",
       "V18    -0.232\n",
       "V19     0.160\n",
       "V20    -0.235\n",
       "V21     0.002\n",
       "V22     0.250\n",
       "V23     0.086\n",
       "V24     0.053\n",
       "V25    -0.025\n",
       "V26    -0.204\n",
       "V27     0.097\n",
       "V28     0.159\n",
       "Amount  0.781\n",
       "\n",
       "[29 rows x 1 columns]"
      ]
     },
     "execution_count": 43,
     "metadata": {},
     "output_type": "execute_result"
    }
   ],
   "source": [
    "coef_df.transpose()"
   ]
  },
  {
   "cell_type": "code",
   "execution_count": 46,
   "metadata": {},
   "outputs": [],
   "source": [
    "#saving as a csv file\n",
    "coef_df.transpose().to_csv(\"coef_df.csv\")"
   ]
  },
  {
   "cell_type": "code",
   "execution_count": 49,
   "metadata": {},
   "outputs": [],
   "source": [
    "from sklearn.feature_selection import f_classif\n",
    "features = f_classif(X,y)"
   ]
  },
  {
   "cell_type": "code",
   "execution_count": 50,
   "metadata": {},
   "outputs": [
    {
     "data": {
      "text/plain": [
       "(array([9.01769582e+04, 1.49936732e+05, 1.94895878e+05, 4.26363035e+05,\n",
       "        7.55719208e+04, 9.26432003e+04, 1.28926322e+05, 1.77114541e+03,\n",
       "        2.02579697e+05, 2.88017698e+05, 4.13781115e+05, 3.66331766e+05,\n",
       "        1.24637314e+03, 5.98819181e+05, 2.18871820e+02, 2.34157747e+05,\n",
       "        1.94768765e+05, 1.21626135e+05, 3.52858526e+04, 1.56903020e+04,\n",
       "        7.99292152e+03, 5.17418422e+01, 1.31436062e+02, 2.83301711e+03,\n",
       "        2.40453475e+03, 1.64727960e+03, 3.48186608e+03, 4.82565217e+03,\n",
       "        2.43063665e+02]),\n",
       " array([0.00000000e+000, 0.00000000e+000, 0.00000000e+000, 0.00000000e+000,\n",
       "        0.00000000e+000, 0.00000000e+000, 0.00000000e+000, 0.00000000e+000,\n",
       "        0.00000000e+000, 0.00000000e+000, 0.00000000e+000, 0.00000000e+000,\n",
       "        1.26657577e-272, 0.00000000e+000, 1.63973658e-049, 0.00000000e+000,\n",
       "        0.00000000e+000, 0.00000000e+000, 0.00000000e+000, 0.00000000e+000,\n",
       "        0.00000000e+000, 6.34025099e-013, 2.00828216e-030, 0.00000000e+000,\n",
       "        0.00000000e+000, 0.00000000e+000, 0.00000000e+000, 0.00000000e+000,\n",
       "        8.74713632e-055]))"
      ]
     },
     "execution_count": 50,
     "metadata": {},
     "output_type": "execute_result"
    }
   ],
   "source": [
    "features"
   ]
  },
  {
   "cell_type": "code",
   "execution_count": 109,
   "metadata": {},
   "outputs": [
    {
     "data": {
      "text/html": [
       "<div>\n",
       "<style scoped>\n",
       "    .dataframe tbody tr th:only-of-type {\n",
       "        vertical-align: middle;\n",
       "    }\n",
       "\n",
       "    .dataframe tbody tr th {\n",
       "        vertical-align: top;\n",
       "    }\n",
       "\n",
       "    .dataframe thead th {\n",
       "        text-align: right;\n",
       "    }\n",
       "</style>\n",
       "<table border=\"1\" class=\"dataframe\">\n",
       "  <thead>\n",
       "    <tr style=\"text-align: right;\">\n",
       "      <th></th>\n",
       "      <th>V1</th>\n",
       "      <th>V2</th>\n",
       "      <th>V3</th>\n",
       "      <th>V4</th>\n",
       "      <th>V5</th>\n",
       "      <th>V6</th>\n",
       "      <th>V7</th>\n",
       "      <th>V8</th>\n",
       "      <th>V9</th>\n",
       "      <th>V10</th>\n",
       "      <th>...</th>\n",
       "      <th>V19</th>\n",
       "      <th>V20</th>\n",
       "      <th>V21</th>\n",
       "      <th>V22</th>\n",
       "      <th>V23</th>\n",
       "      <th>V24</th>\n",
       "      <th>V25</th>\n",
       "      <th>V26</th>\n",
       "      <th>V27</th>\n",
       "      <th>V28</th>\n",
       "    </tr>\n",
       "  </thead>\n",
       "  <tbody>\n",
       "    <tr>\n",
       "      <th>0</th>\n",
       "      <td>-1.359807</td>\n",
       "      <td>-0.072781</td>\n",
       "      <td>2.536347</td>\n",
       "      <td>1.378155</td>\n",
       "      <td>-0.338321</td>\n",
       "      <td>0.462388</td>\n",
       "      <td>0.239599</td>\n",
       "      <td>0.098698</td>\n",
       "      <td>0.363787</td>\n",
       "      <td>0.090794</td>\n",
       "      <td>...</td>\n",
       "      <td>0.403993</td>\n",
       "      <td>0.251412</td>\n",
       "      <td>-0.018307</td>\n",
       "      <td>0.277838</td>\n",
       "      <td>-0.110474</td>\n",
       "      <td>0.066928</td>\n",
       "      <td>0.128539</td>\n",
       "      <td>-0.189115</td>\n",
       "      <td>0.133558</td>\n",
       "      <td>-0.021053</td>\n",
       "    </tr>\n",
       "    <tr>\n",
       "      <th>1</th>\n",
       "      <td>1.191857</td>\n",
       "      <td>0.266151</td>\n",
       "      <td>0.166480</td>\n",
       "      <td>0.448154</td>\n",
       "      <td>0.060018</td>\n",
       "      <td>-0.082361</td>\n",
       "      <td>-0.078803</td>\n",
       "      <td>0.085102</td>\n",
       "      <td>-0.255425</td>\n",
       "      <td>-0.166974</td>\n",
       "      <td>...</td>\n",
       "      <td>-0.145783</td>\n",
       "      <td>-0.069083</td>\n",
       "      <td>-0.225775</td>\n",
       "      <td>-0.638672</td>\n",
       "      <td>0.101288</td>\n",
       "      <td>-0.339846</td>\n",
       "      <td>0.167170</td>\n",
       "      <td>0.125895</td>\n",
       "      <td>-0.008983</td>\n",
       "      <td>0.014724</td>\n",
       "    </tr>\n",
       "    <tr>\n",
       "      <th>2</th>\n",
       "      <td>-1.358354</td>\n",
       "      <td>-1.340163</td>\n",
       "      <td>1.773209</td>\n",
       "      <td>0.379780</td>\n",
       "      <td>-0.503198</td>\n",
       "      <td>1.800499</td>\n",
       "      <td>0.791461</td>\n",
       "      <td>0.247676</td>\n",
       "      <td>-1.514654</td>\n",
       "      <td>0.207643</td>\n",
       "      <td>...</td>\n",
       "      <td>-2.261857</td>\n",
       "      <td>0.524980</td>\n",
       "      <td>0.247998</td>\n",
       "      <td>0.771679</td>\n",
       "      <td>0.909412</td>\n",
       "      <td>-0.689281</td>\n",
       "      <td>-0.327642</td>\n",
       "      <td>-0.139097</td>\n",
       "      <td>-0.055353</td>\n",
       "      <td>-0.059752</td>\n",
       "    </tr>\n",
       "    <tr>\n",
       "      <th>3</th>\n",
       "      <td>-0.966272</td>\n",
       "      <td>-0.185226</td>\n",
       "      <td>1.792993</td>\n",
       "      <td>-0.863291</td>\n",
       "      <td>-0.010309</td>\n",
       "      <td>1.247203</td>\n",
       "      <td>0.237609</td>\n",
       "      <td>0.377436</td>\n",
       "      <td>-1.387024</td>\n",
       "      <td>-0.054952</td>\n",
       "      <td>...</td>\n",
       "      <td>-1.232622</td>\n",
       "      <td>-0.208038</td>\n",
       "      <td>-0.108300</td>\n",
       "      <td>0.005274</td>\n",
       "      <td>-0.190321</td>\n",
       "      <td>-1.175575</td>\n",
       "      <td>0.647376</td>\n",
       "      <td>-0.221929</td>\n",
       "      <td>0.062723</td>\n",
       "      <td>0.061458</td>\n",
       "    </tr>\n",
       "    <tr>\n",
       "      <th>4</th>\n",
       "      <td>-1.158233</td>\n",
       "      <td>0.877737</td>\n",
       "      <td>1.548718</td>\n",
       "      <td>0.403034</td>\n",
       "      <td>-0.407193</td>\n",
       "      <td>0.095921</td>\n",
       "      <td>0.592941</td>\n",
       "      <td>-0.270533</td>\n",
       "      <td>0.817739</td>\n",
       "      <td>0.753074</td>\n",
       "      <td>...</td>\n",
       "      <td>0.803487</td>\n",
       "      <td>0.408542</td>\n",
       "      <td>-0.009431</td>\n",
       "      <td>0.798278</td>\n",
       "      <td>-0.137458</td>\n",
       "      <td>0.141267</td>\n",
       "      <td>-0.206010</td>\n",
       "      <td>0.502292</td>\n",
       "      <td>0.219422</td>\n",
       "      <td>0.215153</td>\n",
       "    </tr>\n",
       "  </tbody>\n",
       "</table>\n",
       "<p>5 rows × 28 columns</p>\n",
       "</div>"
      ],
      "text/plain": [
       "         V1        V2        V3        V4        V5        V6        V7  \\\n",
       "0 -1.359807 -0.072781  2.536347  1.378155 -0.338321  0.462388  0.239599   \n",
       "1  1.191857  0.266151  0.166480  0.448154  0.060018 -0.082361 -0.078803   \n",
       "2 -1.358354 -1.340163  1.773209  0.379780 -0.503198  1.800499  0.791461   \n",
       "3 -0.966272 -0.185226  1.792993 -0.863291 -0.010309  1.247203  0.237609   \n",
       "4 -1.158233  0.877737  1.548718  0.403034 -0.407193  0.095921  0.592941   \n",
       "\n",
       "         V8        V9       V10  ...       V19       V20       V21       V22  \\\n",
       "0  0.098698  0.363787  0.090794  ...  0.403993  0.251412 -0.018307  0.277838   \n",
       "1  0.085102 -0.255425 -0.166974  ... -0.145783 -0.069083 -0.225775 -0.638672   \n",
       "2  0.247676 -1.514654  0.207643  ... -2.261857  0.524980  0.247998  0.771679   \n",
       "3  0.377436 -1.387024 -0.054952  ... -1.232622 -0.208038 -0.108300  0.005274   \n",
       "4 -0.270533  0.817739  0.753074  ...  0.803487  0.408542 -0.009431  0.798278   \n",
       "\n",
       "        V23       V24       V25       V26       V27       V28  \n",
       "0 -0.110474  0.066928  0.128539 -0.189115  0.133558 -0.021053  \n",
       "1  0.101288 -0.339846  0.167170  0.125895 -0.008983  0.014724  \n",
       "2  0.909412 -0.689281 -0.327642 -0.139097 -0.055353 -0.059752  \n",
       "3 -0.190321 -1.175575  0.647376 -0.221929  0.062723  0.061458  \n",
       "4 -0.137458  0.141267 -0.206010  0.502292  0.219422  0.215153  \n",
       "\n",
       "[5 rows x 28 columns]"
      ]
     },
     "execution_count": 109,
     "metadata": {},
     "output_type": "execute_result"
    }
   ],
   "source": [
    "#outlier detection - correlation.\n",
    "#Take only the PCA variables\n",
    "data_V = data.iloc[:, 0:28]\n",
    "data_V.head()"
   ]
  },
  {
   "cell_type": "code",
   "execution_count": 113,
   "metadata": {},
   "outputs": [],
   "source": [
    "#Create the correlation matrix\n",
    "correlation_martix = data_V.corr().round(2)"
   ]
  },
  {
   "cell_type": "code",
   "execution_count": 112,
   "metadata": {},
   "outputs": [
    {
     "data": {
      "text/html": [
       "<div>\n",
       "<style scoped>\n",
       "    .dataframe tbody tr th:only-of-type {\n",
       "        vertical-align: middle;\n",
       "    }\n",
       "\n",
       "    .dataframe tbody tr th {\n",
       "        vertical-align: top;\n",
       "    }\n",
       "\n",
       "    .dataframe thead th {\n",
       "        text-align: right;\n",
       "    }\n",
       "</style>\n",
       "<table border=\"1\" class=\"dataframe\">\n",
       "  <thead>\n",
       "    <tr style=\"text-align: right;\">\n",
       "      <th></th>\n",
       "      <th>V1</th>\n",
       "      <th>V2</th>\n",
       "      <th>V3</th>\n",
       "      <th>V4</th>\n",
       "      <th>V5</th>\n",
       "      <th>V6</th>\n",
       "      <th>V7</th>\n",
       "      <th>V8</th>\n",
       "      <th>V9</th>\n",
       "      <th>V10</th>\n",
       "      <th>...</th>\n",
       "      <th>V21</th>\n",
       "      <th>V22</th>\n",
       "      <th>V23</th>\n",
       "      <th>V24</th>\n",
       "      <th>V25</th>\n",
       "      <th>V26</th>\n",
       "      <th>V27</th>\n",
       "      <th>V28</th>\n",
       "      <th>Amount</th>\n",
       "      <th>Class</th>\n",
       "    </tr>\n",
       "  </thead>\n",
       "  <tbody>\n",
       "    <tr>\n",
       "      <th>V1</th>\n",
       "      <td>1.00</td>\n",
       "      <td>0.00</td>\n",
       "      <td>-0.00</td>\n",
       "      <td>0.00</td>\n",
       "      <td>0.00</td>\n",
       "      <td>0.00</td>\n",
       "      <td>0.00</td>\n",
       "      <td>-0.00</td>\n",
       "      <td>0.00</td>\n",
       "      <td>0.00</td>\n",
       "      <td>...</td>\n",
       "      <td>-0.00</td>\n",
       "      <td>0.00</td>\n",
       "      <td>0.00</td>\n",
       "      <td>0.00</td>\n",
       "      <td>-0.00</td>\n",
       "      <td>-0.0</td>\n",
       "      <td>0.00</td>\n",
       "      <td>0.00</td>\n",
       "      <td>-0.23</td>\n",
       "      <td>-0.10</td>\n",
       "    </tr>\n",
       "    <tr>\n",
       "      <th>V2</th>\n",
       "      <td>0.00</td>\n",
       "      <td>1.00</td>\n",
       "      <td>0.00</td>\n",
       "      <td>-0.00</td>\n",
       "      <td>-0.00</td>\n",
       "      <td>0.00</td>\n",
       "      <td>0.00</td>\n",
       "      <td>-0.00</td>\n",
       "      <td>-0.00</td>\n",
       "      <td>-0.00</td>\n",
       "      <td>...</td>\n",
       "      <td>0.00</td>\n",
       "      <td>0.00</td>\n",
       "      <td>0.00</td>\n",
       "      <td>-0.00</td>\n",
       "      <td>-0.00</td>\n",
       "      <td>0.0</td>\n",
       "      <td>-0.00</td>\n",
       "      <td>-0.00</td>\n",
       "      <td>-0.53</td>\n",
       "      <td>0.09</td>\n",
       "    </tr>\n",
       "    <tr>\n",
       "      <th>V3</th>\n",
       "      <td>-0.00</td>\n",
       "      <td>0.00</td>\n",
       "      <td>1.00</td>\n",
       "      <td>-0.00</td>\n",
       "      <td>-0.00</td>\n",
       "      <td>0.00</td>\n",
       "      <td>0.00</td>\n",
       "      <td>0.00</td>\n",
       "      <td>-0.00</td>\n",
       "      <td>0.00</td>\n",
       "      <td>...</td>\n",
       "      <td>-0.00</td>\n",
       "      <td>0.00</td>\n",
       "      <td>0.00</td>\n",
       "      <td>-0.00</td>\n",
       "      <td>0.00</td>\n",
       "      <td>0.0</td>\n",
       "      <td>0.00</td>\n",
       "      <td>0.00</td>\n",
       "      <td>-0.21</td>\n",
       "      <td>-0.19</td>\n",
       "    </tr>\n",
       "    <tr>\n",
       "      <th>V4</th>\n",
       "      <td>0.00</td>\n",
       "      <td>-0.00</td>\n",
       "      <td>-0.00</td>\n",
       "      <td>1.00</td>\n",
       "      <td>-0.00</td>\n",
       "      <td>-0.00</td>\n",
       "      <td>0.00</td>\n",
       "      <td>0.00</td>\n",
       "      <td>0.00</td>\n",
       "      <td>0.00</td>\n",
       "      <td>...</td>\n",
       "      <td>-0.00</td>\n",
       "      <td>0.00</td>\n",
       "      <td>0.00</td>\n",
       "      <td>0.00</td>\n",
       "      <td>0.00</td>\n",
       "      <td>-0.0</td>\n",
       "      <td>-0.00</td>\n",
       "      <td>-0.00</td>\n",
       "      <td>0.10</td>\n",
       "      <td>0.13</td>\n",
       "    </tr>\n",
       "    <tr>\n",
       "      <th>V5</th>\n",
       "      <td>0.00</td>\n",
       "      <td>-0.00</td>\n",
       "      <td>-0.00</td>\n",
       "      <td>-0.00</td>\n",
       "      <td>1.00</td>\n",
       "      <td>0.00</td>\n",
       "      <td>-0.00</td>\n",
       "      <td>0.00</td>\n",
       "      <td>0.00</td>\n",
       "      <td>-0.00</td>\n",
       "      <td>...</td>\n",
       "      <td>-0.00</td>\n",
       "      <td>0.00</td>\n",
       "      <td>0.00</td>\n",
       "      <td>-0.00</td>\n",
       "      <td>0.00</td>\n",
       "      <td>0.0</td>\n",
       "      <td>0.00</td>\n",
       "      <td>-0.00</td>\n",
       "      <td>-0.39</td>\n",
       "      <td>-0.09</td>\n",
       "    </tr>\n",
       "    <tr>\n",
       "      <th>V6</th>\n",
       "      <td>0.00</td>\n",
       "      <td>0.00</td>\n",
       "      <td>0.00</td>\n",
       "      <td>-0.00</td>\n",
       "      <td>0.00</td>\n",
       "      <td>1.00</td>\n",
       "      <td>0.00</td>\n",
       "      <td>-0.00</td>\n",
       "      <td>0.00</td>\n",
       "      <td>0.00</td>\n",
       "      <td>...</td>\n",
       "      <td>-0.00</td>\n",
       "      <td>-0.00</td>\n",
       "      <td>-0.00</td>\n",
       "      <td>-0.00</td>\n",
       "      <td>0.00</td>\n",
       "      <td>-0.0</td>\n",
       "      <td>-0.00</td>\n",
       "      <td>0.00</td>\n",
       "      <td>0.22</td>\n",
       "      <td>-0.04</td>\n",
       "    </tr>\n",
       "    <tr>\n",
       "      <th>V7</th>\n",
       "      <td>0.00</td>\n",
       "      <td>0.00</td>\n",
       "      <td>0.00</td>\n",
       "      <td>0.00</td>\n",
       "      <td>-0.00</td>\n",
       "      <td>0.00</td>\n",
       "      <td>1.00</td>\n",
       "      <td>-0.00</td>\n",
       "      <td>0.00</td>\n",
       "      <td>0.00</td>\n",
       "      <td>...</td>\n",
       "      <td>0.00</td>\n",
       "      <td>-0.00</td>\n",
       "      <td>0.00</td>\n",
       "      <td>-0.00</td>\n",
       "      <td>0.00</td>\n",
       "      <td>-0.0</td>\n",
       "      <td>-0.00</td>\n",
       "      <td>-0.00</td>\n",
       "      <td>0.40</td>\n",
       "      <td>-0.19</td>\n",
       "    </tr>\n",
       "    <tr>\n",
       "      <th>V8</th>\n",
       "      <td>-0.00</td>\n",
       "      <td>-0.00</td>\n",
       "      <td>0.00</td>\n",
       "      <td>0.00</td>\n",
       "      <td>0.00</td>\n",
       "      <td>-0.00</td>\n",
       "      <td>-0.00</td>\n",
       "      <td>1.00</td>\n",
       "      <td>0.00</td>\n",
       "      <td>0.00</td>\n",
       "      <td>...</td>\n",
       "      <td>-0.00</td>\n",
       "      <td>0.00</td>\n",
       "      <td>0.00</td>\n",
       "      <td>-0.00</td>\n",
       "      <td>-0.00</td>\n",
       "      <td>-0.0</td>\n",
       "      <td>0.00</td>\n",
       "      <td>-0.00</td>\n",
       "      <td>-0.10</td>\n",
       "      <td>0.02</td>\n",
       "    </tr>\n",
       "    <tr>\n",
       "      <th>V9</th>\n",
       "      <td>0.00</td>\n",
       "      <td>-0.00</td>\n",
       "      <td>-0.00</td>\n",
       "      <td>0.00</td>\n",
       "      <td>0.00</td>\n",
       "      <td>0.00</td>\n",
       "      <td>0.00</td>\n",
       "      <td>0.00</td>\n",
       "      <td>1.00</td>\n",
       "      <td>-0.00</td>\n",
       "      <td>...</td>\n",
       "      <td>0.00</td>\n",
       "      <td>0.00</td>\n",
       "      <td>0.00</td>\n",
       "      <td>-0.00</td>\n",
       "      <td>0.00</td>\n",
       "      <td>-0.0</td>\n",
       "      <td>-0.00</td>\n",
       "      <td>0.00</td>\n",
       "      <td>-0.04</td>\n",
       "      <td>-0.10</td>\n",
       "    </tr>\n",
       "    <tr>\n",
       "      <th>V10</th>\n",
       "      <td>0.00</td>\n",
       "      <td>-0.00</td>\n",
       "      <td>0.00</td>\n",
       "      <td>0.00</td>\n",
       "      <td>-0.00</td>\n",
       "      <td>0.00</td>\n",
       "      <td>0.00</td>\n",
       "      <td>0.00</td>\n",
       "      <td>-0.00</td>\n",
       "      <td>1.00</td>\n",
       "      <td>...</td>\n",
       "      <td>0.00</td>\n",
       "      <td>-0.00</td>\n",
       "      <td>0.00</td>\n",
       "      <td>-0.00</td>\n",
       "      <td>-0.00</td>\n",
       "      <td>-0.0</td>\n",
       "      <td>-0.00</td>\n",
       "      <td>-0.00</td>\n",
       "      <td>-0.10</td>\n",
       "      <td>-0.22</td>\n",
       "    </tr>\n",
       "    <tr>\n",
       "      <th>V11</th>\n",
       "      <td>0.00</td>\n",
       "      <td>0.00</td>\n",
       "      <td>-0.00</td>\n",
       "      <td>-0.00</td>\n",
       "      <td>0.00</td>\n",
       "      <td>0.00</td>\n",
       "      <td>-0.00</td>\n",
       "      <td>0.00</td>\n",
       "      <td>0.00</td>\n",
       "      <td>0.00</td>\n",
       "      <td>...</td>\n",
       "      <td>-0.00</td>\n",
       "      <td>-0.00</td>\n",
       "      <td>0.00</td>\n",
       "      <td>0.00</td>\n",
       "      <td>-0.00</td>\n",
       "      <td>-0.0</td>\n",
       "      <td>-0.00</td>\n",
       "      <td>-0.00</td>\n",
       "      <td>0.00</td>\n",
       "      <td>0.15</td>\n",
       "    </tr>\n",
       "    <tr>\n",
       "      <th>V12</th>\n",
       "      <td>0.00</td>\n",
       "      <td>-0.00</td>\n",
       "      <td>0.00</td>\n",
       "      <td>-0.00</td>\n",
       "      <td>0.00</td>\n",
       "      <td>0.00</td>\n",
       "      <td>0.00</td>\n",
       "      <td>-0.00</td>\n",
       "      <td>-0.00</td>\n",
       "      <td>0.00</td>\n",
       "      <td>...</td>\n",
       "      <td>0.00</td>\n",
       "      <td>-0.00</td>\n",
       "      <td>0.00</td>\n",
       "      <td>0.00</td>\n",
       "      <td>0.00</td>\n",
       "      <td>-0.0</td>\n",
       "      <td>-0.00</td>\n",
       "      <td>0.00</td>\n",
       "      <td>-0.01</td>\n",
       "      <td>-0.26</td>\n",
       "    </tr>\n",
       "    <tr>\n",
       "      <th>V13</th>\n",
       "      <td>-0.00</td>\n",
       "      <td>0.00</td>\n",
       "      <td>-0.00</td>\n",
       "      <td>-0.00</td>\n",
       "      <td>-0.00</td>\n",
       "      <td>-0.00</td>\n",
       "      <td>-0.00</td>\n",
       "      <td>-0.00</td>\n",
       "      <td>-0.00</td>\n",
       "      <td>-0.00</td>\n",
       "      <td>...</td>\n",
       "      <td>0.00</td>\n",
       "      <td>-0.00</td>\n",
       "      <td>-0.00</td>\n",
       "      <td>-0.00</td>\n",
       "      <td>0.00</td>\n",
       "      <td>-0.0</td>\n",
       "      <td>-0.00</td>\n",
       "      <td>0.00</td>\n",
       "      <td>0.01</td>\n",
       "      <td>-0.00</td>\n",
       "    </tr>\n",
       "    <tr>\n",
       "      <th>V14</th>\n",
       "      <td>0.00</td>\n",
       "      <td>-0.00</td>\n",
       "      <td>0.00</td>\n",
       "      <td>-0.00</td>\n",
       "      <td>-0.00</td>\n",
       "      <td>0.00</td>\n",
       "      <td>-0.00</td>\n",
       "      <td>-0.00</td>\n",
       "      <td>0.00</td>\n",
       "      <td>0.00</td>\n",
       "      <td>...</td>\n",
       "      <td>0.00</td>\n",
       "      <td>0.00</td>\n",
       "      <td>0.00</td>\n",
       "      <td>0.00</td>\n",
       "      <td>-0.00</td>\n",
       "      <td>-0.0</td>\n",
       "      <td>0.00</td>\n",
       "      <td>0.00</td>\n",
       "      <td>0.03</td>\n",
       "      <td>-0.30</td>\n",
       "    </tr>\n",
       "    <tr>\n",
       "      <th>V15</th>\n",
       "      <td>-0.00</td>\n",
       "      <td>0.00</td>\n",
       "      <td>0.00</td>\n",
       "      <td>-0.00</td>\n",
       "      <td>-0.00</td>\n",
       "      <td>-0.00</td>\n",
       "      <td>0.00</td>\n",
       "      <td>0.00</td>\n",
       "      <td>-0.00</td>\n",
       "      <td>0.00</td>\n",
       "      <td>...</td>\n",
       "      <td>0.00</td>\n",
       "      <td>-0.00</td>\n",
       "      <td>0.00</td>\n",
       "      <td>-0.00</td>\n",
       "      <td>0.00</td>\n",
       "      <td>0.0</td>\n",
       "      <td>-0.00</td>\n",
       "      <td>-0.00</td>\n",
       "      <td>-0.00</td>\n",
       "      <td>-0.00</td>\n",
       "    </tr>\n",
       "    <tr>\n",
       "      <th>V16</th>\n",
       "      <td>0.00</td>\n",
       "      <td>0.00</td>\n",
       "      <td>0.00</td>\n",
       "      <td>-0.00</td>\n",
       "      <td>-0.00</td>\n",
       "      <td>-0.00</td>\n",
       "      <td>0.00</td>\n",
       "      <td>0.00</td>\n",
       "      <td>-0.00</td>\n",
       "      <td>-0.00</td>\n",
       "      <td>...</td>\n",
       "      <td>-0.00</td>\n",
       "      <td>0.00</td>\n",
       "      <td>0.00</td>\n",
       "      <td>-0.00</td>\n",
       "      <td>-0.00</td>\n",
       "      <td>-0.0</td>\n",
       "      <td>0.00</td>\n",
       "      <td>0.00</td>\n",
       "      <td>-0.00</td>\n",
       "      <td>-0.20</td>\n",
       "    </tr>\n",
       "    <tr>\n",
       "      <th>V17</th>\n",
       "      <td>-0.00</td>\n",
       "      <td>-0.00</td>\n",
       "      <td>0.00</td>\n",
       "      <td>-0.00</td>\n",
       "      <td>0.00</td>\n",
       "      <td>0.00</td>\n",
       "      <td>0.00</td>\n",
       "      <td>-0.00</td>\n",
       "      <td>0.00</td>\n",
       "      <td>0.00</td>\n",
       "      <td>...</td>\n",
       "      <td>-0.00</td>\n",
       "      <td>-0.00</td>\n",
       "      <td>0.00</td>\n",
       "      <td>-0.00</td>\n",
       "      <td>0.00</td>\n",
       "      <td>0.0</td>\n",
       "      <td>0.00</td>\n",
       "      <td>-0.00</td>\n",
       "      <td>0.01</td>\n",
       "      <td>-0.33</td>\n",
       "    </tr>\n",
       "    <tr>\n",
       "      <th>V18</th>\n",
       "      <td>0.00</td>\n",
       "      <td>0.00</td>\n",
       "      <td>0.00</td>\n",
       "      <td>0.00</td>\n",
       "      <td>0.00</td>\n",
       "      <td>0.00</td>\n",
       "      <td>-0.00</td>\n",
       "      <td>-0.00</td>\n",
       "      <td>0.00</td>\n",
       "      <td>0.00</td>\n",
       "      <td>...</td>\n",
       "      <td>-0.00</td>\n",
       "      <td>-0.00</td>\n",
       "      <td>-0.00</td>\n",
       "      <td>-0.00</td>\n",
       "      <td>-0.00</td>\n",
       "      <td>0.0</td>\n",
       "      <td>0.00</td>\n",
       "      <td>0.00</td>\n",
       "      <td>0.04</td>\n",
       "      <td>-0.11</td>\n",
       "    </tr>\n",
       "    <tr>\n",
       "      <th>V19</th>\n",
       "      <td>0.00</td>\n",
       "      <td>0.00</td>\n",
       "      <td>0.00</td>\n",
       "      <td>-0.00</td>\n",
       "      <td>-0.00</td>\n",
       "      <td>0.00</td>\n",
       "      <td>-0.00</td>\n",
       "      <td>-0.00</td>\n",
       "      <td>0.00</td>\n",
       "      <td>0.00</td>\n",
       "      <td>...</td>\n",
       "      <td>0.00</td>\n",
       "      <td>-0.00</td>\n",
       "      <td>0.00</td>\n",
       "      <td>0.00</td>\n",
       "      <td>0.00</td>\n",
       "      <td>0.0</td>\n",
       "      <td>-0.00</td>\n",
       "      <td>-0.00</td>\n",
       "      <td>-0.06</td>\n",
       "      <td>0.03</td>\n",
       "    </tr>\n",
       "    <tr>\n",
       "      <th>V20</th>\n",
       "      <td>0.00</td>\n",
       "      <td>-0.00</td>\n",
       "      <td>-0.00</td>\n",
       "      <td>-0.00</td>\n",
       "      <td>0.00</td>\n",
       "      <td>0.00</td>\n",
       "      <td>0.00</td>\n",
       "      <td>-0.00</td>\n",
       "      <td>-0.00</td>\n",
       "      <td>-0.00</td>\n",
       "      <td>...</td>\n",
       "      <td>-0.00</td>\n",
       "      <td>0.00</td>\n",
       "      <td>0.00</td>\n",
       "      <td>0.00</td>\n",
       "      <td>-0.00</td>\n",
       "      <td>-0.0</td>\n",
       "      <td>-0.00</td>\n",
       "      <td>-0.00</td>\n",
       "      <td>0.34</td>\n",
       "      <td>0.02</td>\n",
       "    </tr>\n",
       "    <tr>\n",
       "      <th>V21</th>\n",
       "      <td>-0.00</td>\n",
       "      <td>0.00</td>\n",
       "      <td>-0.00</td>\n",
       "      <td>-0.00</td>\n",
       "      <td>-0.00</td>\n",
       "      <td>-0.00</td>\n",
       "      <td>0.00</td>\n",
       "      <td>-0.00</td>\n",
       "      <td>0.00</td>\n",
       "      <td>0.00</td>\n",
       "      <td>...</td>\n",
       "      <td>1.00</td>\n",
       "      <td>0.00</td>\n",
       "      <td>0.00</td>\n",
       "      <td>0.00</td>\n",
       "      <td>-0.00</td>\n",
       "      <td>-0.0</td>\n",
       "      <td>-0.00</td>\n",
       "      <td>0.00</td>\n",
       "      <td>0.11</td>\n",
       "      <td>0.04</td>\n",
       "    </tr>\n",
       "    <tr>\n",
       "      <th>V22</th>\n",
       "      <td>0.00</td>\n",
       "      <td>0.00</td>\n",
       "      <td>0.00</td>\n",
       "      <td>0.00</td>\n",
       "      <td>0.00</td>\n",
       "      <td>-0.00</td>\n",
       "      <td>-0.00</td>\n",
       "      <td>0.00</td>\n",
       "      <td>0.00</td>\n",
       "      <td>-0.00</td>\n",
       "      <td>...</td>\n",
       "      <td>0.00</td>\n",
       "      <td>1.00</td>\n",
       "      <td>0.00</td>\n",
       "      <td>0.00</td>\n",
       "      <td>-0.00</td>\n",
       "      <td>-0.0</td>\n",
       "      <td>-0.00</td>\n",
       "      <td>-0.00</td>\n",
       "      <td>-0.06</td>\n",
       "      <td>0.00</td>\n",
       "    </tr>\n",
       "    <tr>\n",
       "      <th>V23</th>\n",
       "      <td>0.00</td>\n",
       "      <td>0.00</td>\n",
       "      <td>0.00</td>\n",
       "      <td>0.00</td>\n",
       "      <td>0.00</td>\n",
       "      <td>-0.00</td>\n",
       "      <td>0.00</td>\n",
       "      <td>0.00</td>\n",
       "      <td>0.00</td>\n",
       "      <td>0.00</td>\n",
       "      <td>...</td>\n",
       "      <td>0.00</td>\n",
       "      <td>0.00</td>\n",
       "      <td>1.00</td>\n",
       "      <td>-0.00</td>\n",
       "      <td>-0.00</td>\n",
       "      <td>0.0</td>\n",
       "      <td>0.00</td>\n",
       "      <td>0.00</td>\n",
       "      <td>-0.11</td>\n",
       "      <td>-0.00</td>\n",
       "    </tr>\n",
       "    <tr>\n",
       "      <th>V24</th>\n",
       "      <td>0.00</td>\n",
       "      <td>-0.00</td>\n",
       "      <td>-0.00</td>\n",
       "      <td>0.00</td>\n",
       "      <td>-0.00</td>\n",
       "      <td>-0.00</td>\n",
       "      <td>-0.00</td>\n",
       "      <td>-0.00</td>\n",
       "      <td>-0.00</td>\n",
       "      <td>-0.00</td>\n",
       "      <td>...</td>\n",
       "      <td>0.00</td>\n",
       "      <td>0.00</td>\n",
       "      <td>-0.00</td>\n",
       "      <td>1.00</td>\n",
       "      <td>0.00</td>\n",
       "      <td>0.0</td>\n",
       "      <td>-0.00</td>\n",
       "      <td>-0.00</td>\n",
       "      <td>0.01</td>\n",
       "      <td>-0.01</td>\n",
       "    </tr>\n",
       "    <tr>\n",
       "      <th>V25</th>\n",
       "      <td>-0.00</td>\n",
       "      <td>-0.00</td>\n",
       "      <td>0.00</td>\n",
       "      <td>0.00</td>\n",
       "      <td>0.00</td>\n",
       "      <td>0.00</td>\n",
       "      <td>0.00</td>\n",
       "      <td>-0.00</td>\n",
       "      <td>0.00</td>\n",
       "      <td>-0.00</td>\n",
       "      <td>...</td>\n",
       "      <td>-0.00</td>\n",
       "      <td>-0.00</td>\n",
       "      <td>-0.00</td>\n",
       "      <td>0.00</td>\n",
       "      <td>1.00</td>\n",
       "      <td>0.0</td>\n",
       "      <td>-0.00</td>\n",
       "      <td>0.00</td>\n",
       "      <td>-0.05</td>\n",
       "      <td>0.00</td>\n",
       "    </tr>\n",
       "    <tr>\n",
       "      <th>V26</th>\n",
       "      <td>-0.00</td>\n",
       "      <td>0.00</td>\n",
       "      <td>0.00</td>\n",
       "      <td>-0.00</td>\n",
       "      <td>0.00</td>\n",
       "      <td>-0.00</td>\n",
       "      <td>-0.00</td>\n",
       "      <td>-0.00</td>\n",
       "      <td>-0.00</td>\n",
       "      <td>-0.00</td>\n",
       "      <td>...</td>\n",
       "      <td>-0.00</td>\n",
       "      <td>-0.00</td>\n",
       "      <td>0.00</td>\n",
       "      <td>0.00</td>\n",
       "      <td>0.00</td>\n",
       "      <td>1.0</td>\n",
       "      <td>-0.00</td>\n",
       "      <td>-0.00</td>\n",
       "      <td>-0.00</td>\n",
       "      <td>0.00</td>\n",
       "    </tr>\n",
       "    <tr>\n",
       "      <th>V27</th>\n",
       "      <td>0.00</td>\n",
       "      <td>-0.00</td>\n",
       "      <td>0.00</td>\n",
       "      <td>-0.00</td>\n",
       "      <td>0.00</td>\n",
       "      <td>-0.00</td>\n",
       "      <td>-0.00</td>\n",
       "      <td>0.00</td>\n",
       "      <td>-0.00</td>\n",
       "      <td>-0.00</td>\n",
       "      <td>...</td>\n",
       "      <td>-0.00</td>\n",
       "      <td>-0.00</td>\n",
       "      <td>0.00</td>\n",
       "      <td>-0.00</td>\n",
       "      <td>-0.00</td>\n",
       "      <td>-0.0</td>\n",
       "      <td>1.00</td>\n",
       "      <td>-0.00</td>\n",
       "      <td>0.03</td>\n",
       "      <td>0.02</td>\n",
       "    </tr>\n",
       "    <tr>\n",
       "      <th>V28</th>\n",
       "      <td>0.00</td>\n",
       "      <td>-0.00</td>\n",
       "      <td>0.00</td>\n",
       "      <td>-0.00</td>\n",
       "      <td>-0.00</td>\n",
       "      <td>0.00</td>\n",
       "      <td>-0.00</td>\n",
       "      <td>-0.00</td>\n",
       "      <td>0.00</td>\n",
       "      <td>-0.00</td>\n",
       "      <td>...</td>\n",
       "      <td>0.00</td>\n",
       "      <td>-0.00</td>\n",
       "      <td>0.00</td>\n",
       "      <td>-0.00</td>\n",
       "      <td>0.00</td>\n",
       "      <td>-0.0</td>\n",
       "      <td>-0.00</td>\n",
       "      <td>1.00</td>\n",
       "      <td>0.01</td>\n",
       "      <td>0.01</td>\n",
       "    </tr>\n",
       "    <tr>\n",
       "      <th>Amount</th>\n",
       "      <td>-0.23</td>\n",
       "      <td>-0.53</td>\n",
       "      <td>-0.21</td>\n",
       "      <td>0.10</td>\n",
       "      <td>-0.39</td>\n",
       "      <td>0.22</td>\n",
       "      <td>0.40</td>\n",
       "      <td>-0.10</td>\n",
       "      <td>-0.04</td>\n",
       "      <td>-0.10</td>\n",
       "      <td>...</td>\n",
       "      <td>0.11</td>\n",
       "      <td>-0.06</td>\n",
       "      <td>-0.11</td>\n",
       "      <td>0.01</td>\n",
       "      <td>-0.05</td>\n",
       "      <td>-0.0</td>\n",
       "      <td>0.03</td>\n",
       "      <td>0.01</td>\n",
       "      <td>1.00</td>\n",
       "      <td>0.01</td>\n",
       "    </tr>\n",
       "    <tr>\n",
       "      <th>Class</th>\n",
       "      <td>-0.10</td>\n",
       "      <td>0.09</td>\n",
       "      <td>-0.19</td>\n",
       "      <td>0.13</td>\n",
       "      <td>-0.09</td>\n",
       "      <td>-0.04</td>\n",
       "      <td>-0.19</td>\n",
       "      <td>0.02</td>\n",
       "      <td>-0.10</td>\n",
       "      <td>-0.22</td>\n",
       "      <td>...</td>\n",
       "      <td>0.04</td>\n",
       "      <td>0.00</td>\n",
       "      <td>-0.00</td>\n",
       "      <td>-0.01</td>\n",
       "      <td>0.00</td>\n",
       "      <td>0.0</td>\n",
       "      <td>0.02</td>\n",
       "      <td>0.01</td>\n",
       "      <td>0.01</td>\n",
       "      <td>1.00</td>\n",
       "    </tr>\n",
       "  </tbody>\n",
       "</table>\n",
       "<p>30 rows × 30 columns</p>\n",
       "</div>"
      ],
      "text/plain": [
       "          V1    V2    V3    V4    V5    V6    V7    V8    V9   V10  ...   V21  \\\n",
       "V1      1.00  0.00 -0.00  0.00  0.00  0.00  0.00 -0.00  0.00  0.00  ... -0.00   \n",
       "V2      0.00  1.00  0.00 -0.00 -0.00  0.00  0.00 -0.00 -0.00 -0.00  ...  0.00   \n",
       "V3     -0.00  0.00  1.00 -0.00 -0.00  0.00  0.00  0.00 -0.00  0.00  ... -0.00   \n",
       "V4      0.00 -0.00 -0.00  1.00 -0.00 -0.00  0.00  0.00  0.00  0.00  ... -0.00   \n",
       "V5      0.00 -0.00 -0.00 -0.00  1.00  0.00 -0.00  0.00  0.00 -0.00  ... -0.00   \n",
       "V6      0.00  0.00  0.00 -0.00  0.00  1.00  0.00 -0.00  0.00  0.00  ... -0.00   \n",
       "V7      0.00  0.00  0.00  0.00 -0.00  0.00  1.00 -0.00  0.00  0.00  ...  0.00   \n",
       "V8     -0.00 -0.00  0.00  0.00  0.00 -0.00 -0.00  1.00  0.00  0.00  ... -0.00   \n",
       "V9      0.00 -0.00 -0.00  0.00  0.00  0.00  0.00  0.00  1.00 -0.00  ...  0.00   \n",
       "V10     0.00 -0.00  0.00  0.00 -0.00  0.00  0.00  0.00 -0.00  1.00  ...  0.00   \n",
       "V11     0.00  0.00 -0.00 -0.00  0.00  0.00 -0.00  0.00  0.00  0.00  ... -0.00   \n",
       "V12     0.00 -0.00  0.00 -0.00  0.00  0.00  0.00 -0.00 -0.00  0.00  ...  0.00   \n",
       "V13    -0.00  0.00 -0.00 -0.00 -0.00 -0.00 -0.00 -0.00 -0.00 -0.00  ...  0.00   \n",
       "V14     0.00 -0.00  0.00 -0.00 -0.00  0.00 -0.00 -0.00  0.00  0.00  ...  0.00   \n",
       "V15    -0.00  0.00  0.00 -0.00 -0.00 -0.00  0.00  0.00 -0.00  0.00  ...  0.00   \n",
       "V16     0.00  0.00  0.00 -0.00 -0.00 -0.00  0.00  0.00 -0.00 -0.00  ... -0.00   \n",
       "V17    -0.00 -0.00  0.00 -0.00  0.00  0.00  0.00 -0.00  0.00  0.00  ... -0.00   \n",
       "V18     0.00  0.00  0.00  0.00  0.00  0.00 -0.00 -0.00  0.00  0.00  ... -0.00   \n",
       "V19     0.00  0.00  0.00 -0.00 -0.00  0.00 -0.00 -0.00  0.00  0.00  ...  0.00   \n",
       "V20     0.00 -0.00 -0.00 -0.00  0.00  0.00  0.00 -0.00 -0.00 -0.00  ... -0.00   \n",
       "V21    -0.00  0.00 -0.00 -0.00 -0.00 -0.00  0.00 -0.00  0.00  0.00  ...  1.00   \n",
       "V22     0.00  0.00  0.00  0.00  0.00 -0.00 -0.00  0.00  0.00 -0.00  ...  0.00   \n",
       "V23     0.00  0.00  0.00  0.00  0.00 -0.00  0.00  0.00  0.00  0.00  ...  0.00   \n",
       "V24     0.00 -0.00 -0.00  0.00 -0.00 -0.00 -0.00 -0.00 -0.00 -0.00  ...  0.00   \n",
       "V25    -0.00 -0.00  0.00  0.00  0.00  0.00  0.00 -0.00  0.00 -0.00  ... -0.00   \n",
       "V26    -0.00  0.00  0.00 -0.00  0.00 -0.00 -0.00 -0.00 -0.00 -0.00  ... -0.00   \n",
       "V27     0.00 -0.00  0.00 -0.00  0.00 -0.00 -0.00  0.00 -0.00 -0.00  ... -0.00   \n",
       "V28     0.00 -0.00  0.00 -0.00 -0.00  0.00 -0.00 -0.00  0.00 -0.00  ...  0.00   \n",
       "Amount -0.23 -0.53 -0.21  0.10 -0.39  0.22  0.40 -0.10 -0.04 -0.10  ...  0.11   \n",
       "Class  -0.10  0.09 -0.19  0.13 -0.09 -0.04 -0.19  0.02 -0.10 -0.22  ...  0.04   \n",
       "\n",
       "         V22   V23   V24   V25  V26   V27   V28  Amount  Class  \n",
       "V1      0.00  0.00  0.00 -0.00 -0.0  0.00  0.00   -0.23  -0.10  \n",
       "V2      0.00  0.00 -0.00 -0.00  0.0 -0.00 -0.00   -0.53   0.09  \n",
       "V3      0.00  0.00 -0.00  0.00  0.0  0.00  0.00   -0.21  -0.19  \n",
       "V4      0.00  0.00  0.00  0.00 -0.0 -0.00 -0.00    0.10   0.13  \n",
       "V5      0.00  0.00 -0.00  0.00  0.0  0.00 -0.00   -0.39  -0.09  \n",
       "V6     -0.00 -0.00 -0.00  0.00 -0.0 -0.00  0.00    0.22  -0.04  \n",
       "V7     -0.00  0.00 -0.00  0.00 -0.0 -0.00 -0.00    0.40  -0.19  \n",
       "V8      0.00  0.00 -0.00 -0.00 -0.0  0.00 -0.00   -0.10   0.02  \n",
       "V9      0.00  0.00 -0.00  0.00 -0.0 -0.00  0.00   -0.04  -0.10  \n",
       "V10    -0.00  0.00 -0.00 -0.00 -0.0 -0.00 -0.00   -0.10  -0.22  \n",
       "V11    -0.00  0.00  0.00 -0.00 -0.0 -0.00 -0.00    0.00   0.15  \n",
       "V12    -0.00  0.00  0.00  0.00 -0.0 -0.00  0.00   -0.01  -0.26  \n",
       "V13    -0.00 -0.00 -0.00  0.00 -0.0 -0.00  0.00    0.01  -0.00  \n",
       "V14     0.00  0.00  0.00 -0.00 -0.0  0.00  0.00    0.03  -0.30  \n",
       "V15    -0.00  0.00 -0.00  0.00  0.0 -0.00 -0.00   -0.00  -0.00  \n",
       "V16     0.00  0.00 -0.00 -0.00 -0.0  0.00  0.00   -0.00  -0.20  \n",
       "V17    -0.00  0.00 -0.00  0.00  0.0  0.00 -0.00    0.01  -0.33  \n",
       "V18    -0.00 -0.00 -0.00 -0.00  0.0  0.00  0.00    0.04  -0.11  \n",
       "V19    -0.00  0.00  0.00  0.00  0.0 -0.00 -0.00   -0.06   0.03  \n",
       "V20     0.00  0.00  0.00 -0.00 -0.0 -0.00 -0.00    0.34   0.02  \n",
       "V21     0.00  0.00  0.00 -0.00 -0.0 -0.00  0.00    0.11   0.04  \n",
       "V22     1.00  0.00  0.00 -0.00 -0.0 -0.00 -0.00   -0.06   0.00  \n",
       "V23     0.00  1.00 -0.00 -0.00  0.0  0.00  0.00   -0.11  -0.00  \n",
       "V24     0.00 -0.00  1.00  0.00  0.0 -0.00 -0.00    0.01  -0.01  \n",
       "V25    -0.00 -0.00  0.00  1.00  0.0 -0.00  0.00   -0.05   0.00  \n",
       "V26    -0.00  0.00  0.00  0.00  1.0 -0.00 -0.00   -0.00   0.00  \n",
       "V27    -0.00  0.00 -0.00 -0.00 -0.0  1.00 -0.00    0.03   0.02  \n",
       "V28    -0.00  0.00 -0.00  0.00 -0.0 -0.00  1.00    0.01   0.01  \n",
       "Amount -0.06 -0.11  0.01 -0.05 -0.0  0.03  0.01    1.00   0.01  \n",
       "Class   0.00 -0.00 -0.01  0.00  0.0  0.02  0.01    0.01   1.00  \n",
       "\n",
       "[30 rows x 30 columns]"
      ]
     },
     "execution_count": 112,
     "metadata": {},
     "output_type": "execute_result"
    }
   ],
   "source": [
    "data.corr().round(2)"
   ]
  },
  {
   "cell_type": "code",
   "execution_count": 125,
   "metadata": {},
   "outputs": [
    {
     "data": {
      "image/png": "[encoded data removed]",
      "text/plain": [
       "<Figure size 1440x1440 with 1 Axes>"
      ]
     },
     "metadata": {
      "needs_background": "light"
     },
     "output_type": "display_data"
    }
   ],
   "source": [
    "from sklearn.decomposition import PCA\n",
    "pca = PCA().fit(data_V)\n",
    "#Plotting the Cumulative Summation of the Explained Variance\n",
    "\n",
    "plt.figure(figsize=(20,20))\n",
    "plt.plot(np.cumsum(pca.explained_variance_ratio_))\n",
    "plt.xlabel('Number of Components')\n",
    "plt.ylabel('Variance (%)') #for each component\n",
    "plt.title('doing pca on pca-done variables-kind of again')\n",
    "plt.show()"
   ]
  }
 ],
 "metadata": {
  "kernelspec": {
   "display_name": "Python 3",
   "language": "python",
   "name": "python3"
  },
  "language_info": {
   "codemirror_mode": {
    "name": "ipython",
    "version": 3
   },
   "file_extension": ".py",
   "mimetype": "text/x-python",
   "name": "python",
   "nbconvert_exporter": "python",
   "pygments_lexer": "ipython3",
   "version": "3.7.3"
  }
 },
 "nbformat": 4,
 "nbformat_minor": 2
}
